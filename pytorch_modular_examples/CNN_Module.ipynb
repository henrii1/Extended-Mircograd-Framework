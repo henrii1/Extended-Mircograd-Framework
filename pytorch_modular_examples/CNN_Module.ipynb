{
  "cells": [
    {
      "cell_type": "code",
      "execution_count": 43,
      "metadata": {
        "id": "Lnua3tSIu9KL"
      },
      "outputs": [],
      "source": [
        "import torch\n",
        "import random\n",
        "import torch.nn.functional as F\n",
        "import torch.nn as nn\n",
        "import torch.optim as optim\n",
        "import requests\n",
        "import matplotlib.pyplot as plt\n",
        "%matplotlib inline"
      ]
    },
    {
      "cell_type": "code",
      "execution_count": 33,
      "metadata": {
        "colab": {
          "base_uri": "https://localhost:8080/"
        },
        "id": "uwgIgYqju9Gv",
        "outputId": "488963d0-f05d-489c-d87b-2bc014482d16"
      },
      "outputs": [
        {
          "output_type": "stream",
          "name": "stdout",
          "text": [
            "--2024-06-15 17:07:51--  https://raw.githubusercontent.com/karpathy/makemore/master/names.txt\n",
            "Resolving raw.githubusercontent.com (raw.githubusercontent.com)... 185.199.109.133, 185.199.110.133, 185.199.111.133, ...\n",
            "Connecting to raw.githubusercontent.com (raw.githubusercontent.com)|185.199.109.133|:443... connected.\n",
            "HTTP request sent, awaiting response... 200 OK\n",
            "Length: 228145 (223K) [text/plain]\n",
            "Saving to: ‘names.txt.3’\n",
            "\n",
            "\rnames.txt.3           0%[                    ]       0  --.-KB/s               \rnames.txt.3         100%[===================>] 222.80K  --.-KB/s    in 0.01s   \n",
            "\n",
            "2024-06-15 17:07:51 (17.3 MB/s) - ‘names.txt.3’ saved [228145/228145]\n",
            "\n"
          ]
        }
      ],
      "source": [
        "# data_link = 'https://raw.githubusercontent.com/karpathy/makemore/master/names.txt'\n",
        "# file = requests.get(data_link)\n",
        "# with open('names.txt', 'wb') as f:\n",
        "#   f.write(file.content)\n",
        "\n",
        "# words = open('names.txt', 'r').read().splitlines()\n",
        "\n",
        "#alternative approach\n",
        "!wget https://raw.githubusercontent.com/karpathy/makemore/master/names.txt\n",
        "\n",
        "words = open('names.txt', 'r').read().splitlines()"
      ]
    },
    {
      "cell_type": "code",
      "execution_count": 34,
      "metadata": {
        "colab": {
          "base_uri": "https://localhost:8080/"
        },
        "id": "W5QJvcNGu9E7",
        "outputId": "e8494169-8e47-4157-8ab9-3583ce120bc6"
      },
      "outputs": [
        {
          "output_type": "stream",
          "name": "stdout",
          "text": [
            "word_count=32033 \n",
            " max_length=15 \n",
            " min_length=2\n"
          ]
        }
      ],
      "source": [
        "# comment this part in the repo\n",
        "word_count = len(words)\n",
        "max_length = max(len(word) for word in words)\n",
        "min_length = min(len(word) for word in words)\n",
        "\n",
        "print(f\"{word_count=} \\n {max_length=} \\n {min_length=}\")"
      ]
    },
    {
      "cell_type": "markdown",
      "metadata": {
        "id": "7j05s-Yn0yAo"
      },
      "source": [
        "## Bigram Implementation"
      ]
    },
    {
      "cell_type": "code",
      "execution_count": 35,
      "metadata": {
        "collapsed": true,
        "id": "O8InhXiCu9DV"
      },
      "outputs": [],
      "source": [
        "# create a lookup table for strings\n",
        "chars = sorted(list(set(''.join(words))))\n",
        "stoi = {s:i+1 for i,s in enumerate(chars)}\n",
        "stoi['.'] = 0\n",
        "itos = {i:s for s,i in stoi.items()}\n"
      ]
    },
    {
      "cell_type": "code",
      "execution_count": 36,
      "metadata": {
        "id": "OSnfgaieu8sj",
        "colab": {
          "base_uri": "https://localhost:8080/"
        },
        "outputId": "906756a3-0dcd-41cc-cce1-60be2a2496f0"
      },
      "outputs": [
        {
          "output_type": "stream",
          "name": "stdout",
          "text": [
            "torch.Size([182693, 8]) torch.Size([182693])\n",
            "torch.Size([22665, 8]) torch.Size([22665])\n",
            "torch.Size([22788, 8]) torch.Size([22788])\n"
          ]
        }
      ],
      "source": [
        "block_size = 8\n",
        "\n",
        "def build_dataset(words):\n",
        "  X, Y = [], []\n",
        "  for word in words:\n",
        "    context = [0] * block_size\n",
        "    for ch in word + '.':\n",
        "      ix = stoi[ch]\n",
        "      X.append(context)\n",
        "      Y.append(ix)\n",
        "      context = context[1:] + [ix]\n",
        "\n",
        "  X = torch.tensor(X)\n",
        "  Y = torch.tensor(Y)\n",
        "  print(X.shape, Y.shape)\n",
        "  return X, Y\n",
        "\n",
        "random.shuffle(words)\n",
        "n1 = int(0.8 * len(words))\n",
        "n2 = int(0.9 * len(words))\n",
        "\n",
        "Xtr, Ytr = build_dataset(words[:n1])\n",
        "Xdev, Ydev = build_dataset(words[n1:n2])\n",
        "Xte, Yte = build_dataset(words[n2:])\n"
      ]
    },
    {
      "cell_type": "code",
      "source": [
        "torch.manual_seed(42)\n",
        "\n",
        "device = 'cuda' if torch.cuda.is_available() else 'cpu'"
      ],
      "metadata": {
        "id": "Kn5ChqVXdkwj"
      },
      "execution_count": 37,
      "outputs": []
    },
    {
      "cell_type": "code",
      "source": [
        "# model architecture\n",
        "\n",
        "n_embed = 24\n",
        "n_hidden = 200\n",
        "vocab_size = len(stoi.values())\n",
        "num_layers = 1     # number of LSTM layers\n",
        "#block_size = 8\n",
        "\n",
        "#nn.Module\n",
        "class CNNModel(nn.Module):\n",
        "  def __init__(self, n_embed, n_hidden, vocab_size, kernel_size= block_size, dropout_prob=0.5):\n",
        "    super(CNNModel, self).__init__()\n",
        "    self.hidden_size = n_hidden\n",
        "    self.num_layers = num_layers\n",
        "    self.embed = nn.Embedding(vocab_size, n_embed)\n",
        "\n",
        "    self.convs = nn.Conv1d(in_channels=n_embed, out_channels=n_hidden, kernel_size=kernel_size, padding=kernel_size // 2)\n",
        "\n",
        "    self.dropouts = nn.Dropout(dropout_prob)\n",
        "    self.linear = nn.Linear(n_hidden, vocab_size)\n",
        "\n",
        "  def forward(self, x):\n",
        "    x = self.embed(x)    # (batch_size, seq_len, n_embed)\n",
        "    x = x.permute(0, 2, 1)  # x.transpose(1, 2)\n",
        "   # for conv, dropout in zip(self.convs, self.dropouts):  #\n",
        "    x = torch.relu(self.convs(x))\n",
        "    x = self.dropouts(x)    # (batch_size, n_embed, seq_len)\n",
        "\n",
        "    x = x.permute(0, 2, 1)  # (batch_size, seq_len, n_embed)\n",
        "    x  = self.linear(x[:, -1, :])  # (batch_size, vocab_size)\n",
        "    return x\n",
        "\n",
        "  def parameters(self):\n",
        "    return list(self.embed.parameters()) + list(self.linear.parameters()) + list(self.convs.parameters())\n",
        "    + list(self.dropouts.parameters())\n",
        "\n",
        "model = CNNModel(n_embed, n_hidden, vocab_size, num_layers)\n",
        "model.to(device)\n",
        "\n",
        "with torch.no_grad():\n",
        "  model.linear.weight *= 0.1 # the model is a class object\n",
        "\n",
        "print(sum(p.nelement() for p in model.parameters()))  # p is a tensor, we can do p.grad() but we'll have to do nelement() to count parameters\n",
        "\n",
        "for p in model.parameters():\n",
        "  p.requires_grad = True\n",
        "\n",
        "params = model.named_parameters()\n",
        "for name, param in params:\n",
        "    print(f\"layer name: {name} -- shape{param.shape}\")\n"
      ],
      "metadata": {
        "colab": {
          "base_uri": "https://localhost:8080/"
        },
        "id": "BWMZnUzTdkzs",
        "outputId": "33acfdb4-3851-4603-de08-f957c1715be6"
      },
      "execution_count": 38,
      "outputs": [
        {
          "output_type": "stream",
          "name": "stdout",
          "text": [
            "11075\n",
            "layer name: embed.weight -- shapetorch.Size([27, 24])\n",
            "layer name: convs.weight -- shapetorch.Size([200, 24, 1])\n",
            "layer name: convs.bias -- shapetorch.Size([200])\n",
            "layer name: linear.weight -- shapetorch.Size([27, 200])\n",
            "layer name: linear.bias -- shapetorch.Size([27])\n"
          ]
        }
      ]
    },
    {
      "cell_type": "code",
      "execution_count": 44,
      "metadata": {
        "id": "jkcvjiJmu8qp",
        "colab": {
          "base_uri": "https://localhost:8080/"
        },
        "outputId": "8f4fa00f-52f6-46a2-c531-282233e23fd2"
      },
      "outputs": [
        {
          "output_type": "stream",
          "name": "stdout",
          "text": [
            "      0/   2000: 2.4899\n",
            "    200/   2000: 2.2617\n",
            "    400/   2000: 2.1161\n",
            "    600/   2000: 2.6781\n",
            "    800/   2000: 2.5430\n",
            "   1000/   2000: 2.4177\n",
            "   1200/   2000: 2.3759\n",
            "   1400/   2000: 2.6331\n",
            "   1600/   2000: 2.5541\n",
            "   1800/   2000: 2.5735\n"
          ]
        }
      ],
      "source": [
        "# actual training process\n",
        "max_steps = 2000\n",
        "batch_size = 32\n",
        "lossi = []\n",
        "for i in range(max_steps):\n",
        "  ix = torch.randint(0, Xtr.shape[0], (batch_size,))\n",
        "  Xb, Yb = Xtr[ix], Ytr[ix]\n",
        "  Xb = Xb.to(device)\n",
        "  Yb = Yb.to(device)\n",
        "\n",
        "  # pass xb through the model\n",
        "  logits = model(Xb)\n",
        "  loss = F.cross_entropy(logits, Yb)\n",
        "\n",
        "  # backprop\n",
        "  for p in model.parameters():\n",
        "    p.grad = None\n",
        "  loss.backward()\n",
        "\n",
        "  # update\n",
        "  optimizer = optim.Adam(model.parameters(), lr=1e-3)\n",
        "  optimizer.step()\n",
        "  # lr = 0.1 if i < 100000 else 0.01\n",
        "  # for p in model.parameters():\n",
        "  #   p.data += -lr * p.grad\n",
        "  lossi.append(loss.log10().item())\n",
        "  if i % 200 == 0:\n",
        "    print(f\"{i:7d}/{max_steps:7d}: {loss.item():.4f}\")"
      ]
    },
    {
      "cell_type": "code",
      "source": [
        "plt.plot(torch.tensor(lossi).view(-1, 200).mean(1))"
      ],
      "metadata": {
        "colab": {
          "base_uri": "https://localhost:8080/",
          "height": 447
        },
        "id": "ohMXTaAuHpFz",
        "outputId": "47352c7c-a185-4afc-efd8-57870e30e2ef"
      },
      "execution_count": 40,
      "outputs": [
        {
          "output_type": "execute_result",
          "data": {
            "text/plain": [
              "[<matplotlib.lines.Line2D at 0x7e82c41eea40>]"
            ]
          },
          "metadata": {},
          "execution_count": 40
        },
        {
          "output_type": "display_data",
          "data": {
            "text/plain": [
              "<Figure size 640x480 with 1 Axes>"
            ],
            "image/png": "[encoded data removed]"
          },
          "metadata": {}
        }
      ]
    },
    {
      "cell_type": "code",
      "source": [
        "# evaluation on entire dataset\n",
        "\n",
        "@torch.no_grad()   # for faster operation\n",
        "def split_loss(split):\n",
        "  x, y = {\n",
        "      'train': (Xtr, Ytr),\n",
        "      'val': (Xdev, Ydev),\n",
        "      'test': (Xte, Yte),\n",
        "  }[split]\n",
        "  x = x.to(device)\n",
        "  y = y.to(device)\n",
        "  logits = model(x)\n",
        "  loss = F.cross_entropy(logits, y)\n",
        "  print(f'{split} loss: {loss.item():.4f}')\n",
        "\n",
        "split_loss('train')\n",
        "split_loss('val')"
      ],
      "metadata": {
        "colab": {
          "base_uri": "https://localhost:8080/"
        },
        "id": "X9lK8dNcFFGQ",
        "outputId": "51b2913d-2d7d-45ac-e8d4-56ce33710e86"
      },
      "execution_count": 41,
      "outputs": [
        {
          "output_type": "stream",
          "name": "stdout",
          "text": [
            "train loss: 2.4746\n",
            "val loss: 2.4808\n"
          ]
        }
      ]
    },
    {
      "cell_type": "code",
      "source": [
        "# sampling from the model\n",
        "g = torch.Generator().manual_seed(1234543)\n",
        "for _ in range(20):\n",
        "  out = []\n",
        "  context = [0] * block_size\n",
        "  while True:\n",
        "    # remember to preserve first dim of context\n",
        "    context_tensor = torch.tensor([context], device=device)\n",
        "    logits = model(context_tensor)\n",
        "    probs = F.softmax(logits, dim=1)\n",
        "\n",
        "\n",
        "    ix = torch.multinomial(probs, num_samples=1, replacement=True).item()\n",
        "    out.append(ix)\n",
        "    context = context[1:] + [ix]\n",
        "    if ix == 0:\n",
        "      break\n",
        "  print(''.join(itos[i] for i in out))\n",
        "\n"
      ],
      "metadata": {
        "colab": {
          "base_uri": "https://localhost:8080/"
        },
        "id": "WbZ9b2OAIzrx",
        "outputId": "deaed031-90c4-4ddb-ffba-f845278e7f92"
      },
      "execution_count": 42,
      "outputs": [
        {
          "output_type": "stream",
          "name": "stdout",
          "text": [
            "d.\n",
            "migulienguschlyx.\n",
            "mis.\n",
            "k.\n",
            "hay.\n",
            "deriricon.\n",
            "koransa.\n",
            "kanyahmiarvi.\n",
            "dey.\n",
            "juemanephay.\n",
            "salelinianasulyrjeplidalwiree.\n",
            "ka.\n",
            "as.\n",
            "bon.\n",
            "trcae.\n",
            "dlex.\n",
            "rifaya.\n",
            "h.\n",
            "thena.\n",
            "mina.\n"
          ]
        }
      ]
    }
  ],
  "metadata": {
    "colab": {
      "provenance": [],
      "gpuType": "T4"
    },
    "kernelspec": {
      "display_name": "Python 3",
      "name": "python3"
    },
    "language_info": {
      "name": "python"
    },
    "accelerator": "GPU"
  },
  "nbformat": 4,
  "nbformat_minor": 0
}