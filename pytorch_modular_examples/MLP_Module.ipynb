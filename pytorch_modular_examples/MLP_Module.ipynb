{
  "cells": [
    {
      "cell_type": "code",
      "execution_count": 47,
      "metadata": {
        "id": "Lnua3tSIu9KL"
      },
      "outputs": [],
      "source": [
        "import torch\n",
        "import random\n",
        "import torch.nn.functional as F\n",
        "from torch.nn.init import kaiming_normal_\n",
        "from torch.nn import (\n",
        "    Sequential,\n",
        "    Tanh,\n",
        "    Linear,\n",
        "    BatchNorm1d,\n",
        "    Embedding,\n",
        "    Flatten,  #checkout the flatten before use\n",
        ")\n",
        "import requests\n",
        "import matplotlib.pyplot as plt\n",
        "%matplotlib inline"
      ]
    },
    {
      "cell_type": "code",
      "execution_count": 31,
      "metadata": {
        "colab": {
          "base_uri": "https://localhost:8080/"
        },
        "id": "uwgIgYqju9Gv",
        "outputId": "8d51ad30-4332-4f53-a2c6-cb5b0df77192"
      },
      "outputs": [
        {
          "output_type": "stream",
          "name": "stdout",
          "text": [
            "--2024-06-12 19:29:47--  https://raw.githubusercontent.com/karpathy/makemore/master/names.txt\n",
            "Resolving raw.githubusercontent.com (raw.githubusercontent.com)... 185.199.110.133, 185.199.111.133, 185.199.109.133, ...\n",
            "Connecting to raw.githubusercontent.com (raw.githubusercontent.com)|185.199.110.133|:443... connected.\n",
            "HTTP request sent, awaiting response... 200 OK\n",
            "Length: 228145 (223K) [text/plain]\n",
            "Saving to: ‘names.txt.1’\n",
            "\n",
            "\rnames.txt.1           0%[                    ]       0  --.-KB/s               \rnames.txt.1         100%[===================>] 222.80K  --.-KB/s    in 0.03s   \n",
            "\n",
            "2024-06-12 19:29:47 (6.48 MB/s) - ‘names.txt.1’ saved [228145/228145]\n",
            "\n"
          ]
        }
      ],
      "source": [
        "# data_link = 'https://raw.githubusercontent.com/karpathy/makemore/master/names.txt'\n",
        "# file = requests.get(data_link)\n",
        "# with open('names.txt', 'wb') as f:\n",
        "#   f.write(file.content)\n",
        "\n",
        "# words = open('names.txt', 'r').read().splitlines()\n",
        "\n",
        "#alternative approach\n",
        "!wget https://raw.githubusercontent.com/karpathy/makemore/master/names.txt\n",
        "\n",
        "words = open('names.txt', 'r').read().splitlines()"
      ]
    },
    {
      "cell_type": "code",
      "execution_count": 32,
      "metadata": {
        "colab": {
          "base_uri": "https://localhost:8080/"
        },
        "id": "W5QJvcNGu9E7",
        "outputId": "17c25178-b416-4175-e833-42786077ecae"
      },
      "outputs": [
        {
          "output_type": "stream",
          "name": "stdout",
          "text": [
            "word_count=32033 \n",
            " max_length=15 \n",
            " min_length=2\n"
          ]
        }
      ],
      "source": [
        "# comment this part in the repo\n",
        "word_count = len(words)\n",
        "max_length = max(len(word) for word in words)\n",
        "min_length = min(len(word) for word in words)\n",
        "\n",
        "print(f\"{word_count=} \\n {max_length=} \\n {min_length=}\")"
      ]
    },
    {
      "cell_type": "markdown",
      "metadata": {
        "id": "7j05s-Yn0yAo"
      },
      "source": [
        "## Bigram Implementation"
      ]
    },
    {
      "cell_type": "code",
      "execution_count": 33,
      "metadata": {
        "collapsed": true,
        "id": "O8InhXiCu9DV"
      },
      "outputs": [],
      "source": [
        "# create a lookup table for strings\n",
        "chars = sorted(list(set(''.join(words))))\n",
        "stoi = {s:i+1 for i,s in enumerate(chars)}\n",
        "stoi['.'] = 0\n",
        "itos = {i:s for s,i in stoi.items()}\n"
      ]
    },
    {
      "cell_type": "code",
      "execution_count": 36,
      "metadata": {
        "id": "OSnfgaieu8sj",
        "colab": {
          "base_uri": "https://localhost:8080/"
        },
        "outputId": "4150755b-8919-41bd-8fa5-d08db1b0cde6"
      },
      "outputs": [
        {
          "output_type": "stream",
          "name": "stdout",
          "text": [
            "torch.Size([182552, 8]) torch.Size([182552])\n",
            "torch.Size([22817, 8]) torch.Size([22817])\n",
            "torch.Size([22777, 8]) torch.Size([22777])\n"
          ]
        }
      ],
      "source": [
        "block_size = 8\n",
        "\n",
        "def build_dataset(words):\n",
        "  X, Y = [], []\n",
        "  for word in words:\n",
        "    context = [0] * block_size\n",
        "    for ch in word + '.':\n",
        "      ix = stoi[ch]\n",
        "      X.append(context)\n",
        "      Y.append(ix)\n",
        "      context = context[1:] + [ix]\n",
        "\n",
        "  X = torch.tensor(X)\n",
        "  Y = torch.tensor(Y)\n",
        "  print(X.shape, Y.shape)\n",
        "  return X, Y\n",
        "\n",
        "random.shuffle(words)\n",
        "n1 = int(0.8 * len(words))\n",
        "n2 = int(0.9 * len(words))\n",
        "\n",
        "Xtr, Ytr = build_dataset(words[:n1])\n",
        "Xdev, Ydev = build_dataset(words[n1:n2])\n",
        "Xte, Yte = build_dataset(words[n2:])\n"
      ]
    },
    {
      "cell_type": "code",
      "source": [
        "# DO NOT RUN\n",
        "\n",
        "# Defining Pytorch Modules to be used\n",
        "'''Linear Class'''\n",
        "class Linear:\n",
        "  def __init__(self, fan_in: str, fan_out: str, bias: bool=True):\n",
        "    self.weight = kaiming_normal_(torch.randn(fan_in, fan_out), nonlinearity='tanh')\n",
        "    #self.weight = torch.randn(fan_in, fan_out) / fan_in**0.5\n",
        "    self.bias = torch.randn(fan_out) if bias else None\n",
        "\n",
        "  def __call__(self, x):\n",
        "    self.out = x @ self.weight\n",
        "    if self.bias:\n",
        "      self.out = out + self.bias\n",
        "    return self.out    # self.out is used because we need to call methods using the output\n",
        "\n",
        "  def parameters(self):\n",
        "    return [self.weight] + ([] if not self.bias else [self.bias])\n",
        "\n",
        "\n",
        "'''Embedding Layer'''\n",
        "class Embedding:\n",
        "  def __init__(self, num_embeddings: int, embedding_dim: int):\n",
        "    self.weight = torch.randn(num_embeddings, embedding_dim)\n",
        "\n",
        "  def __call__(self, IX):\n",
        "    self.out = self.weight[IX]  #indexing into the embedding lookup\n",
        "\n",
        "    return self.out\n",
        "\n",
        "  def parameters(self):\n",
        "    return [self.weight]\n",
        "\n",
        "'''Flatten'''\n",
        "class Flatten:\n",
        "\n",
        "  def __call__(self, x: torch.tensor):\n",
        "     self.out = x.view(x.size(0), -1)  #notice torch.size(0) == torch.shape[0]\n",
        "     return self.out\n",
        "\n",
        "  def parameters(self):\n",
        "    return []\n",
        "\n",
        "'''Sequential'''\n",
        "class Sequential:\n",
        "\n",
        "  def __init__(self, *args):\n",
        "    self.layers = [*args]\n",
        "\n",
        "  def __call__(self, x):\n",
        "    for layer in self.layers:\n",
        "      x = layer(x)\n",
        "    self.out = x\n",
        "    return self.out\n",
        "\n",
        "  def parameters(self):\n",
        "    return [p for layer in self.layers for p in layer.parameters()]  # if the class structure exists, triple comprehension is possible p must match last p.\n",
        "\n",
        "\n",
        "'''BatchNorm1D'''\n",
        "(X - mean(0(batch dimension))) / std(0, batch dimension) #broadcasting will occur with mean and var\n",
        "\n",
        "'''LayerNorm'''\n",
        "(X - mean(1(b dimension))) / std(layer dimension)    #broadcasting will occur with mean and var\n",
        "\n",
        "\n",
        "\n"
      ],
      "metadata": {
        "id": "msezfUhRdkhL"
      },
      "execution_count": null,
      "outputs": []
    },
    {
      "cell_type": "code",
      "source": [
        "torch.manual_seed(42)"
      ],
      "metadata": {
        "colab": {
          "base_uri": "https://localhost:8080/"
        },
        "id": "Kn5ChqVXdkwj",
        "outputId": "010bbfe8-896f-48b5-89d9-560c1a270407"
      },
      "execution_count": 37,
      "outputs": [
        {
          "output_type": "execute_result",
          "data": {
            "text/plain": [
              "<torch._C.Generator at 0x795d0852e190>"
            ]
          },
          "metadata": {},
          "execution_count": 37
        }
      ]
    },
    {
      "cell_type": "code",
      "source": [
        "class Tanh:\n",
        "  def __call__(self, x):\n",
        "    self.out = torch.tanh(x)\n",
        "    return self.out\n",
        "\n",
        "  def parameters(self):\n",
        "    return []\n"
      ],
      "metadata": {
        "id": "hB9OxziR346Z"
      },
      "execution_count": 38,
      "outputs": []
    },
    {
      "cell_type": "code",
      "source": [
        "# model architecture\n",
        "\n",
        "n_embed = 24\n",
        "n_hidden = 200\n",
        "vocab_size = len(stoi.values())\n",
        "# sequential expect subclasses of nn.Module (layers built in pytorch are built by subclassing nn.Moduule like models)\n",
        "model = Sequential(\n",
        "    Embedding(vocab_size, n_embed), Flatten(),\n",
        "    Linear(n_embed * block_size, n_hidden, bias=False), BatchNorm1d(n_hidden), Tanh(),\n",
        "    Linear(n_hidden, n_hidden, bias=False), BatchNorm1d(n_hidden), Tanh(),\n",
        "    Linear(n_hidden, n_hidden, bias=False), BatchNorm1d(n_hidden), Tanh(),\n",
        "    Linear(n_hidden, n_hidden, bias=False), BatchNorm1d(n_hidden), Tanh(),\n",
        "    Linear(n_hidden, vocab_size, bias=False), BatchNorm1d(vocab_size),\n",
        "\n",
        ")\n",
        "\n",
        "# for our custom sequential class\n",
        "# with torch.no_grad():\n",
        "#   model.layers[-2].weight *= 0.01    #making the last  output less confident\n",
        "\n",
        "# torch.nn.Sequential is accessed directly\n",
        "with torch.no_grad():\n",
        "  model[-2].weight *= 0.01\n",
        "\n",
        "print(sum(p.nelement() for p in model.parameters()))  # p is a tensor, we can do p.grad() but we'll have to do nelement() to count parameters\n",
        "\n",
        "for p in model.parameters():\n",
        "  p.requires_grad = True\n",
        "\n",
        "\n",
        "# #without sequential\n",
        "\n",
        "# layers = [\n",
        "#     Embedding(vocab_size, n_embed), Flatten(),\n",
        "#     Linear(n_embed * block_size, n_hidden, bias=False), BatchNorm1d(n_hidden), Tanh(),\n",
        "#     Linear(n_hidden, n_hidden, bias=False), BatchNorm1d(n_hidden), Tanh(),\n",
        "#     Linear(n_hidden, n_hidden, bias=False), BatchNorm1d(n_hidden), Tanh(),\n",
        "#     Linear(n_hidden, n_hidden, bias=False), BatchNorm1d(n_hidden), Tanh(),\n",
        "#     Linear(n_hidden, vocab_size, bias=False), BatchNorm1d(vocab_size),\n",
        "\n",
        "# ]\n",
        "\n",
        "# #in run script\n",
        "\n",
        "# for layer in layers:\n",
        "#   x = layer(x)\n",
        "# output = x\n"
      ],
      "metadata": {
        "colab": {
          "base_uri": "https://localhost:8080/"
        },
        "id": "BWMZnUzTdkzs",
        "outputId": "75803600-b700-4043-c989-54a9ad153fc7"
      },
      "execution_count": 46,
      "outputs": [
        {
          "output_type": "stream",
          "name": "stdout",
          "text": [
            "166102\n"
          ]
        }
      ]
    },
    {
      "cell_type": "code",
      "execution_count": 48,
      "metadata": {
        "id": "jkcvjiJmu8qp",
        "colab": {
          "base_uri": "https://localhost:8080/"
        },
        "outputId": "1ee1cb2e-ae86-425a-e606-d756ca3cd824"
      },
      "outputs": [
        {
          "output_type": "stream",
          "name": "stdout",
          "text": [
            "      0/ 200000: 3.4395\n",
            "  10000/ 200000: 2.0620\n",
            "  20000/ 200000: 2.1364\n",
            "  30000/ 200000: 1.9383\n",
            "  40000/ 200000: 2.1067\n",
            "  50000/ 200000: 1.6607\n",
            "  60000/ 200000: 2.0680\n",
            "  70000/ 200000: 1.5567\n",
            "  80000/ 200000: 1.8163\n",
            "  90000/ 200000: 2.2146\n",
            " 100000/ 200000: 1.8101\n",
            " 110000/ 200000: 1.8675\n",
            " 120000/ 200000: 1.7056\n",
            " 130000/ 200000: 1.5397\n",
            " 140000/ 200000: 1.7038\n",
            " 150000/ 200000: 1.6532\n",
            " 160000/ 200000: 1.4250\n",
            " 170000/ 200000: 1.4871\n",
            " 180000/ 200000: 2.0108\n",
            " 190000/ 200000: 1.2696\n"
          ]
        }
      ],
      "source": [
        "# actual training process\n",
        "max_steps = 200000\n",
        "batch_size = 32\n",
        "lossi = []\n",
        "for i in range(200000):\n",
        "  ix = torch.randint(0, Xtr.shape[0], (batch_size,))\n",
        "  Xb, Yb = Xtr[ix], Ytr[ix]\n",
        "\n",
        "  # pass xb through the model\n",
        "  logits = model(Xb)\n",
        "  loss = F.cross_entropy(logits, Yb)\n",
        "\n",
        "  # backprop\n",
        "  for p in model.parameters():\n",
        "    p.grad = None\n",
        "  loss.backward()\n",
        "\n",
        "  # update\n",
        "  lr = 0.1 if i < 150000 else 0.01\n",
        "  for p in model.parameters():\n",
        "    p.data += -lr * p.grad\n",
        "  lossi.append(loss.log10().item())\n",
        "  if i % 10000 == 0:\n",
        "    print(f\"{i:7d}/{max_steps:7d}: {loss.item():.4f}\")"
      ]
    },
    {
      "cell_type": "code",
      "source": [
        "plt.plot(torch.tensor(lossi).view(-1, 1000).mean(1))"
      ],
      "metadata": {
        "colab": {
          "base_uri": "https://localhost:8080/",
          "height": 448
        },
        "id": "ohMXTaAuHpFz",
        "outputId": "2a517046-5c6c-4168-ad80-522d234eef80"
      },
      "execution_count": 49,
      "outputs": [
        {
          "output_type": "execute_result",
          "data": {
            "text/plain": [
              "[<matplotlib.lines.Line2D at 0x795c34565c90>]"
            ]
          },
          "metadata": {},
          "execution_count": 49
        },
        {
          "output_type": "display_data",
          "data": {
            "text/plain": [
              "<Figure size 640x480 with 1 Axes>"
            ],
            "image/png": "[encoded data removed]"
          },
          "metadata": {}
        }
      ]
    },
    {
      "cell_type": "code",
      "source": [
        "# set out of training mode\n",
        "\n",
        "# #using our custom Sequential\n",
        "# for layer in model.layers():\n",
        "#   layer.eval() or layer.training = False\n",
        "\n",
        "# using torch.nn.Sequential\n",
        "model.eval()\n",
        "\n",
        "print(model.training)"
      ],
      "metadata": {
        "colab": {
          "base_uri": "https://localhost:8080/"
        },
        "id": "lUl_KrghFFDr",
        "outputId": "26e10b64-a965-475f-bfb5-3e6d39e1f157"
      },
      "execution_count": 50,
      "outputs": [
        {
          "output_type": "stream",
          "name": "stdout",
          "text": [
            "False\n"
          ]
        }
      ]
    },
    {
      "cell_type": "code",
      "source": [
        "# evaluation on entire dataset\n",
        "\n",
        "@torch.no_grad()   # for faster operation\n",
        "def split_loss(split):\n",
        "  x, y = {\n",
        "      'train': (Xtr, Ytr),\n",
        "      'val': (Xdev, Ydev),\n",
        "      'test': (Xte, Yte),\n",
        "  }[split]\n",
        "  logits = model(x)\n",
        "  loss = F.cross_entropy(logits, y)\n",
        "  print(f'{split} loss: {loss.item():.4f}')\n",
        "\n",
        "split_loss('train')\n",
        "split_loss('val')"
      ],
      "metadata": {
        "colab": {
          "base_uri": "https://localhost:8080/"
        },
        "id": "X9lK8dNcFFGQ",
        "outputId": "711893b7-505d-4ea4-9d81-b9fa2028bd14"
      },
      "execution_count": 53,
      "outputs": [
        {
          "output_type": "stream",
          "name": "stdout",
          "text": [
            "train loss: 1.6500\n",
            "val loss: 1.9862\n"
          ]
        }
      ]
    },
    {
      "cell_type": "code",
      "source": [
        "# sampling from the model\n",
        "g = torch.Generator().manual_seed(1234543)\n",
        "for _ in range(20):\n",
        "  out = []\n",
        "  context = [0] * block_size\n",
        "  while True:\n",
        "    # remember to preserve first dim of context\n",
        "    logits = model(torch.tensor([context]))\n",
        "    probs = F.softmax(logits, dim=1)\n",
        "\n",
        "\n",
        "    ix = torch.multinomial(probs, num_samples=1, replacement=True).item()\n",
        "    out.append(ix)\n",
        "    context = context[1:] + [ix]\n",
        "    if ix == 0:\n",
        "      break\n",
        "  print(''.join(itos[i] for i in out))\n",
        "\n",
        ""
      ],
      "metadata": {
        "colab": {
          "base_uri": "https://localhost:8080/"
        },
        "id": "WbZ9b2OAIzrx",
        "outputId": "23baa433-803c-4086-e127-14df1f2c9606"
      },
      "execution_count": 52,
      "outputs": [
        {
          "output_type": "stream",
          "name": "stdout",
          "text": [
            "kyer.\n",
            "aalaya.\n",
            "silvia.\n",
            "samoni.\n",
            "lory.\n",
            "isille.\n",
            "jethmah.\n",
            "amadhmarah.\n",
            "himani.\n",
            "marhan.\n",
            "macyn.\n",
            "naysy.\n",
            "namita.\n",
            "novalas.\n",
            "azara.\n",
            "trishaba.\n",
            "greys.\n",
            "ettis.\n",
            "maryor.\n",
            "quinnlee.\n"
          ]
        }
      ]
    }
  ],
  "metadata": {
    "colab": {
      "provenance": []
    },
    "kernelspec": {
      "display_name": "Python 3",
      "name": "python3"
    },
    "language_info": {
      "name": "python"
    }
  },
  "nbformat": 4,
  "nbformat_minor": 0
}