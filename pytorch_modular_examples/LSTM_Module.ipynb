{
  "cells": [
    {
      "cell_type": "code",
      "execution_count": 1,
      "metadata": {
        "id": "Lnua3tSIu9KL"
      },
      "outputs": [],
      "source": [
        "import torch\n",
        "import random\n",
        "import torch.nn.functional as F\n",
        "import torch.nn as nn\n",
        "import torch.optim as optim\n",
        "import requests\n",
        "import matplotlib.pyplot as plt\n",
        "%matplotlib inline"
      ]
    },
    {
      "cell_type": "code",
      "execution_count": 2,
      "metadata": {
        "colab": {
          "base_uri": "https://localhost:8080/"
        },
        "id": "uwgIgYqju9Gv",
        "outputId": "4ad586fa-5d8b-4b95-fc6e-7f6c24314b43"
      },
      "outputs": [
        {
          "output_type": "stream",
          "name": "stdout",
          "text": [
            "--2024-06-14 16:08:53--  https://raw.githubusercontent.com/karpathy/makemore/master/names.txt\n",
            "Resolving raw.githubusercontent.com (raw.githubusercontent.com)... 185.199.109.133, 185.199.108.133, 185.199.110.133, ...\n",
            "Connecting to raw.githubusercontent.com (raw.githubusercontent.com)|185.199.109.133|:443... connected.\n",
            "HTTP request sent, awaiting response... 200 OK\n",
            "Length: 228145 (223K) [text/plain]\n",
            "Saving to: ‘names.txt’\n",
            "\n",
            "names.txt           100%[===================>] 222.80K  --.-KB/s    in 0.004s  \n",
            "\n",
            "2024-06-14 16:08:53 (59.1 MB/s) - ‘names.txt’ saved [228145/228145]\n",
            "\n"
          ]
        }
      ],
      "source": [
        "# data_link = 'https://raw.githubusercontent.com/karpathy/makemore/master/names.txt'\n",
        "# file = requests.get(data_link)\n",
        "# with open('names.txt', 'wb') as f:\n",
        "#   f.write(file.content)\n",
        "\n",
        "# words = open('names.txt', 'r').read().splitlines()\n",
        "\n",
        "#alternative approach\n",
        "!wget https://raw.githubusercontent.com/karpathy/makemore/master/names.txt\n",
        "\n",
        "words = open('names.txt', 'r').read().splitlines()"
      ]
    },
    {
      "cell_type": "code",
      "execution_count": 3,
      "metadata": {
        "colab": {
          "base_uri": "https://localhost:8080/"
        },
        "id": "W5QJvcNGu9E7",
        "outputId": "e2e05d6a-5858-443e-b813-8eae3ad99ef8"
      },
      "outputs": [
        {
          "output_type": "stream",
          "name": "stdout",
          "text": [
            "word_count=32033 \n",
            " max_length=15 \n",
            " min_length=2\n"
          ]
        }
      ],
      "source": [
        "# comment this part in the repo\n",
        "word_count = len(words)\n",
        "max_length = max(len(word) for word in words)\n",
        "min_length = min(len(word) for word in words)\n",
        "\n",
        "print(f\"{word_count=} \\n {max_length=} \\n {min_length=}\")"
      ]
    },
    {
      "cell_type": "markdown",
      "metadata": {
        "id": "7j05s-Yn0yAo"
      },
      "source": [
        "## Bigram Implementation"
      ]
    },
    {
      "cell_type": "code",
      "execution_count": 4,
      "metadata": {
        "collapsed": true,
        "id": "O8InhXiCu9DV"
      },
      "outputs": [],
      "source": [
        "# create a lookup table for strings\n",
        "chars = sorted(list(set(''.join(words))))\n",
        "stoi = {s:i+1 for i,s in enumerate(chars)}\n",
        "stoi['.'] = 0\n",
        "itos = {i:s for s,i in stoi.items()}\n"
      ]
    },
    {
      "cell_type": "code",
      "execution_count": 5,
      "metadata": {
        "id": "OSnfgaieu8sj",
        "colab": {
          "base_uri": "https://localhost:8080/"
        },
        "outputId": "2701aa6d-962d-48e6-fbd9-58eb225543fd"
      },
      "outputs": [
        {
          "output_type": "stream",
          "name": "stdout",
          "text": [
            "torch.Size([182547, 8]) torch.Size([182547])\n",
            "torch.Size([23012, 8]) torch.Size([23012])\n",
            "torch.Size([22587, 8]) torch.Size([22587])\n"
          ]
        }
      ],
      "source": [
        "block_size = 8\n",
        "\n",
        "def build_dataset(words):\n",
        "  X, Y = [], []\n",
        "  for word in words:\n",
        "    context = [0] * block_size\n",
        "    for ch in word + '.':\n",
        "      ix = stoi[ch]\n",
        "      X.append(context)\n",
        "      Y.append(ix)\n",
        "      context = context[1:] + [ix]\n",
        "\n",
        "  X = torch.tensor(X)\n",
        "  Y = torch.tensor(Y)\n",
        "  print(X.shape, Y.shape)\n",
        "  return X, Y\n",
        "\n",
        "random.shuffle(words)\n",
        "n1 = int(0.8 * len(words))\n",
        "n2 = int(0.9 * len(words))\n",
        "\n",
        "Xtr, Ytr = build_dataset(words[:n1])\n",
        "Xdev, Ydev = build_dataset(words[n1:n2])\n",
        "Xte, Yte = build_dataset(words[n2:])\n"
      ]
    },
    {
      "cell_type": "code",
      "source": [
        "torch.manual_seed(42)\n",
        "\n",
        "device = 'cuda' if torch.cuda.is_available() else 'cpu'"
      ],
      "metadata": {
        "id": "Kn5ChqVXdkwj"
      },
      "execution_count": 6,
      "outputs": []
    },
    {
      "cell_type": "code",
      "source": [
        "# model architecture\n",
        "\n",
        "n_embed = 24\n",
        "n_hidden = 200\n",
        "vocab_size = len(stoi.values())\n",
        "num_layers = 1     # number of LSTM layers\n",
        "#block_size = 8\n",
        "\n",
        "#nn.Module\n",
        "class LSTMModel(nn.Module):\n",
        "  def __init__(self, n_embed, n_hidden, output_size, num_layers):\n",
        "    super(LSTMModel, self).__init__()   #making LSTMMOdel inherit all the properties of nn.Module\n",
        "    self.hidden_size = n_hidden\n",
        "    self.num_layers = num_layers\n",
        "    self.embed = nn.Embedding(vocab_size, n_embed)\n",
        "    self.lstm = nn.LSTM(n_embed, n_hidden, num_layers, batch_first=True)\n",
        "    self.linear = nn.Linear(n_hidden, vocab_size)\n",
        "\n",
        "  def forward(self, x):\n",
        "    h0 = torch.zeros(self.num_layers, x.size(0), self.hidden_size).to(x.device) #to the device of x\n",
        "    c0 = torch.zeros(self.num_layers, x.size(0), self.hidden_size).to(x.device)\n",
        "    x = self.embed(x)\n",
        "    out, _ = self.lstm(x, (h0, c0))\n",
        "    out = self.linear(out[:, -1, :])\n",
        "    return out\n",
        "\n",
        "  def parameters(self):\n",
        "    return list(self.lstm.parameters()) + list(self.linear.parameters()) + list(self.embed.parameters())\n",
        "\n",
        "model = LSTMModel(n_embed, n_hidden, vocab_size, num_layers)\n",
        "model = model.to(device)\n",
        "\n",
        "with torch.no_grad():\n",
        "  model.linear.weight *= 0.1 # the model is a class object\n",
        "\n",
        "print(sum(p.nelement() for p in model.parameters()))  # p is a tensor, we can do p.grad() but we'll have to do nelement() to count parameters\n",
        "\n",
        "for p in model.parameters():\n",
        "  p.requires_grad = True\n",
        "\n",
        "params = model.parameters()\n",
        "for param in params:\n",
        "    print(param.shape)\n",
        "\n"
      ],
      "metadata": {
        "colab": {
          "base_uri": "https://localhost:8080/"
        },
        "id": "BWMZnUzTdkzs",
        "outputId": "c5492687-d4e5-4a23-8675-971cbebfeb51"
      },
      "execution_count": 7,
      "outputs": [
        {
          "output_type": "stream",
          "name": "stdout",
          "text": [
            "186875\n",
            "torch.Size([800, 24])\n",
            "torch.Size([800, 200])\n",
            "torch.Size([800])\n",
            "torch.Size([800])\n",
            "torch.Size([27, 200])\n",
            "torch.Size([27])\n",
            "torch.Size([27, 24])\n"
          ]
        }
      ]
    },
    {
      "cell_type": "code",
      "execution_count": 8,
      "metadata": {
        "id": "jkcvjiJmu8qp",
        "colab": {
          "base_uri": "https://localhost:8080/"
        },
        "outputId": "d25b6b70-a0dd-42f0-8b49-0bff62631e1b"
      },
      "outputs": [
        {
          "output_type": "stream",
          "name": "stdout",
          "text": [
            "      0/ 100000: 3.3138\n",
            "  10000/ 100000: 2.3209\n",
            "  20000/ 100000: 1.9411\n",
            "  30000/ 100000: 1.9301\n",
            "  40000/ 100000: 1.5920\n",
            "  50000/ 100000: 2.1633\n",
            "  60000/ 100000: 2.0979\n",
            "  70000/ 100000: 2.0850\n",
            "  80000/ 100000: 1.9263\n",
            "  90000/ 100000: 1.7709\n"
          ]
        }
      ],
      "source": [
        "# actual training process\n",
        "max_steps = 100000\n",
        "batch_size = 32\n",
        "lossi = []\n",
        "for i in range(max_steps):\n",
        "  ix = torch.randint(0, Xtr.shape[0], (batch_size,))\n",
        "  Xb, Yb = Xtr[ix], Ytr[ix]\n",
        "  Xb = Xb.to(device)\n",
        "  Yb = Yb.to(device)\n",
        "\n",
        "  # pass xb through the model\n",
        "  logits = model(Xb)\n",
        "  loss = F.cross_entropy(logits, Yb)\n",
        "\n",
        "  # backprop\n",
        "  for p in model.parameters():\n",
        "    p.grad = None\n",
        "  loss.backward()\n",
        "\n",
        "  # update\n",
        "  lr = 0.1 if i < 150000 else 0.01\n",
        "  for p in model.parameters():\n",
        "    p.data += -lr * p.grad\n",
        "  lossi.append(loss.log10().item())\n",
        "  if i % 10000 == 0:\n",
        "    print(f\"{i:7d}/{max_steps:7d}: {loss.item():.4f}\")"
      ]
    },
    {
      "cell_type": "code",
      "source": [
        "plt.plot(torch.tensor(lossi).view(-1, 100).mean(1))"
      ],
      "metadata": {
        "colab": {
          "base_uri": "https://localhost:8080/",
          "height": 448
        },
        "id": "ohMXTaAuHpFz",
        "outputId": "65c8f869-055c-4635-acba-bd2f689031ab"
      },
      "execution_count": 9,
      "outputs": [
        {
          "output_type": "execute_result",
          "data": {
            "text/plain": [
              "[<matplotlib.lines.Line2D at 0x7cb17314a3e0>]"
            ]
          },
          "metadata": {},
          "execution_count": 9
        },
        {
          "output_type": "display_data",
          "data": {
            "text/plain": [
              "<Figure size 640x480 with 1 Axes>"
            ],
            "image/png": "[encoded data removed]"
          },
          "metadata": {}
        }
      ]
    },
    {
      "cell_type": "code",
      "source": [
        "# set out of training mode\n",
        "\n",
        "# #using our custom Sequential\n",
        "# for layer in model.layers():\n",
        "#   layer.eval() or layer.training = False\n",
        "\n",
        "# using torch.nn.Sequential\n",
        "model.eval()\n",
        "\n",
        "print(model.training)"
      ],
      "metadata": {
        "colab": {
          "base_uri": "https://localhost:8080/"
        },
        "id": "lUl_KrghFFDr",
        "outputId": "7926b871-5bfa-4af6-c67b-cd3e3fd6dd53"
      },
      "execution_count": 10,
      "outputs": [
        {
          "output_type": "stream",
          "name": "stdout",
          "text": [
            "False\n"
          ]
        }
      ]
    },
    {
      "cell_type": "code",
      "source": [
        "# evaluation on entire dataset\n",
        "\n",
        "@torch.no_grad()   # for faster operation\n",
        "def split_loss(split):\n",
        "  x, y = {\n",
        "      'train': (Xtr, Ytr),\n",
        "      'val': (Xdev, Ydev),\n",
        "      'test': (Xte, Yte),\n",
        "  }[split]\n",
        "  x = x.to(device)\n",
        "  y = y.to(device)\n",
        "  logits = model(x)\n",
        "  loss = F.cross_entropy(logits, y)\n",
        "  print(f'{split} loss: {loss.item():.4f}')\n",
        "\n",
        "split_loss('train')\n",
        "split_loss('val')"
      ],
      "metadata": {
        "colab": {
          "base_uri": "https://localhost:8080/"
        },
        "id": "X9lK8dNcFFGQ",
        "outputId": "108be749-f78c-4178-be1c-b69e6e727a7f"
      },
      "execution_count": 11,
      "outputs": [
        {
          "output_type": "stream",
          "name": "stdout",
          "text": [
            "train loss: 1.8057\n",
            "val loss: 1.9779\n"
          ]
        }
      ]
    },
    {
      "cell_type": "code",
      "source": [
        "# sampling from the model\n",
        "g = torch.Generator().manual_seed(1234543)\n",
        "for _ in range(20):\n",
        "  out = []\n",
        "  context = [0] * block_size\n",
        "  while True:\n",
        "    # remember to preserve first dim of context\n",
        "    context_tensor = torch.tensor([context], device=device)\n",
        "    logits = model(context_tensor)\n",
        "    probs = F.softmax(logits, dim=1)\n",
        "\n",
        "\n",
        "    ix = torch.multinomial(probs, num_samples=1, replacement=True).item()\n",
        "    out.append(ix)\n",
        "    context = context[1:] + [ix]\n",
        "    if ix == 0:\n",
        "      break\n",
        "  print(''.join(itos[i] for i in out))\n",
        "\n"
      ],
      "metadata": {
        "colab": {
          "base_uri": "https://localhost:8080/"
        },
        "id": "WbZ9b2OAIzrx",
        "outputId": "57543578-2a7c-4e06-bc17-e09a3cc56beb"
      },
      "execution_count": 12,
      "outputs": [
        {
          "output_type": "stream",
          "name": "stdout",
          "text": [
            "krislynn.\n",
            "viran.\n",
            "endreas.\n",
            "everlynne.\n",
            "khilo.\n",
            "fiora.\n",
            "shevin.\n",
            "isah.\n",
            "kamerin.\n",
            "wylin.\n",
            "omony.\n",
            "kuntrell.\n",
            "sai.\n",
            "sminiyah.\n",
            "mana.\n",
            "krushan.\n",
            "kharvi.\n",
            "sterlen.\n",
            "roselin.\n",
            "edi.\n"
          ]
        }
      ]
    }
  ],
  "metadata": {
    "colab": {
      "provenance": [],
      "gpuType": "T4"
    },
    "kernelspec": {
      "display_name": "Python 3",
      "name": "python3"
    },
    "language_info": {
      "name": "python"
    },
    "accelerator": "GPU"
  },
  "nbformat": 4,
  "nbformat_minor": 0
}