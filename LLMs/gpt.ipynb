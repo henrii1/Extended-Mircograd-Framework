{
  "nbformat": 4,
  "nbformat_minor": 0,
  "metadata": {
    "colab": {
      "provenance": [],
      "gpuType": "T4"
    },
    "kernelspec": {
      "name": "python3",
      "display_name": "Python 3"
    },
    "language_info": {
      "name": "python"
    },
    "accelerator": "GPU"
  },
  "cells": [
    {
      "cell_type": "code",
      "execution_count": 1,
      "metadata": {
        "id": "kEiVx-wuh7wz"
      },
      "outputs": [],
      "source": [
        "import torch\n",
        "import torch.nn as nn\n",
        "from torch.nn import functional as F"
      ]
    },
    {
      "cell_type": "code",
      "source": [
        "!wget https://raw.githubusercontent.com/karpathy/char-rnn/master/data/tinyshakespeare/input.txt\n",
        "with open('input.txt', 'r', encoding='utf-8') as f:\n",
        "    text = f.read()"
      ],
      "metadata": {
        "colab": {
          "base_uri": "https://localhost:8080/"
        },
        "id": "Kg5uavvznbyM",
        "outputId": "acf3d363-0208-425a-99df-d4b8be98af4f"
      },
      "execution_count": 2,
      "outputs": [
        {
          "output_type": "stream",
          "name": "stdout",
          "text": [
            "--2024-06-25 00:07:57--  https://raw.githubusercontent.com/karpathy/char-rnn/master/data/tinyshakespeare/input.txt\n",
            "Resolving raw.githubusercontent.com (raw.githubusercontent.com)... 185.199.108.133, 185.199.109.133, 185.199.110.133, ...\n",
            "Connecting to raw.githubusercontent.com (raw.githubusercontent.com)|185.199.108.133|:443... connected.\n",
            "HTTP request sent, awaiting response... 200 OK\n",
            "Length: 1115394 (1.1M) [text/plain]\n",
            "Saving to: ‘input.txt’\n",
            "\n",
            "input.txt           100%[===================>]   1.06M  --.-KB/s    in 0.006s  \n",
            "\n",
            "2024-06-25 00:07:57 (185 MB/s) - ‘input.txt’ saved [1115394/1115394]\n",
            "\n"
          ]
        }
      ]
    },
    {
      "cell_type": "code",
      "source": [
        "# hyperparameters\n",
        "batch_size = 64 # how many independent sequences will we process in parallel?\n",
        "block_size = 256 # what is the maximum context length for predictions?\n",
        "max_iters = 5000\n",
        "eval_interval = 500\n",
        "learning_rate = 3e-4\n",
        "device = 'cuda' if torch.cuda.is_available() else 'cpu'\n",
        "eval_iters = 200\n",
        "n_embd = 384\n",
        "n_head = 6\n",
        "n_layer = 6\n",
        "dropout = 0.2"
      ],
      "metadata": {
        "id": "ADRq_Pcy6QBC"
      },
      "execution_count": 3,
      "outputs": []
    },
    {
      "cell_type": "code",
      "source": [
        "chars = sorted(list(set(text)))\n",
        "vocab_size = len(chars)\n",
        "vocab_size"
      ],
      "metadata": {
        "colab": {
          "base_uri": "https://localhost:8080/"
        },
        "id": "WCSFfJSMnb0f",
        "outputId": "ae12ae3d-4420-4ce5-9a61-7d88449fe323"
      },
      "execution_count": 4,
      "outputs": [
        {
          "output_type": "execute_result",
          "data": {
            "text/plain": [
              "65"
            ]
          },
          "metadata": {},
          "execution_count": 4
        }
      ]
    },
    {
      "cell_type": "code",
      "source": [
        "stoi = {ch:i for i,ch in enumerate(chars)}\n",
        "itos = {i:ch for i,ch in enumerate(chars)}\n",
        "\n",
        "encode = lambda s: [stoi[c] for c in s]\n",
        "decode = lambda l: ''.join([itos[i] for i in l])"
      ],
      "metadata": {
        "id": "oP7A09Uenb4J"
      },
      "execution_count": 5,
      "outputs": []
    },
    {
      "cell_type": "code",
      "source": [
        "data = torch.tensor(encode(text), dtype=torch.long)\n",
        "n = int(0.9*len(data))\n",
        "train_data = data[:n]\n",
        "val_data = data[n:]\n"
      ],
      "metadata": {
        "id": "CmWUwfCFncDT"
      },
      "execution_count": 6,
      "outputs": []
    },
    {
      "cell_type": "code",
      "source": [
        "#define the get batch function\n",
        "def get_batch(split):\n",
        "  data = train_data if split == 'train' else val_data\n",
        "  ix = torch.randint(len(data) - block_size, (batch_size,))  #for each example, we'll index seq_length (block size) and stack as batches\n",
        "  x = torch.stack([data[i:i+block_size] for i in ix])\n",
        "  y = torch.stack([data[i+1:i+1+block_size] for i in ix])\n",
        "  x, y = x.to(device), y.to(device)\n",
        "  return x, y"
      ],
      "metadata": {
        "id": "LPZx_tQBncGz"
      },
      "execution_count": 7,
      "outputs": []
    },
    {
      "cell_type": "code",
      "source": [
        "# loss calculation\n",
        "@torch.no_grad()     #deactivates keeping track of gradient enables faster computation.\n",
        "def estimate_loss():\n",
        "  out = {}\n",
        "  model.eval()   #deactivates dropout and batchnorm\n",
        "  for split in ['train', 'val']:\n",
        "    losses = torch.zeros(eval_iters)\n",
        "    for k in range(eval_iters):\n",
        "      X, Y = get_batch(split)\n",
        "      logits, loss = model(X, Y)\n",
        "      losses[k] = loss.item()         #for mean purposes\n",
        "    out[split] = losses.mean()\n",
        "  model.train()                       #set back in training mode to enable those layers\n",
        "  return out"
      ],
      "metadata": {
        "id": "7AKghq8V8z7g"
      },
      "execution_count": 8,
      "outputs": []
    },
    {
      "cell_type": "code",
      "source": [
        "# #model ++\n",
        "\n",
        "# # one self attention head\n",
        "# class Head(nn.Module):\n",
        "#   def __init__(self, head_size):       #headsize equals model dimension / number of heads\n",
        "#     super().__init__()\n",
        "#     self.key = nn.Linear(n_embd, head_size, bias=False)\n",
        "#     self.query = nn.Linear(n_embd, head_size, bias=False)\n",
        "#     self.value = nn.Linear(n_embd, head_size, bias=False)\n",
        "#     self.register_buffer('tril', torch.tril(torch.ones(block_size, block_size)))\n",
        "#     self.dropout = nn.Dropout(dropout)\n",
        "\n",
        "#   def forward(self, x):\n",
        "\n",
        "#     B, T, C = x.shape     #batch, time, channel\n",
        "#     k = self.key(x)       #B, T, hs\n",
        "#     q = self.query(x)     #B, T, hs\n",
        "\n",
        "#     wei = q @ k.transpose(-2, -1) * C**-0.5  #Weight decay  (B, T, T)\n",
        "#     wei = wei.masked_fill(self.tril[:T, :T] == 0, float('inf')) # B, T, T\n",
        "#     wei = F.softmax(wei, dim=-1)\n",
        "#     wei = self.dropout(wei)   #attending to only previous tokens\n",
        "\n",
        "#     #perform weighted aggregation with values\n",
        "#     v = self.value(x)   #B, T, hs\n",
        "#     out = wei @ v        #B, T, hs\n",
        "#     return out\n",
        "\n",
        "\n",
        "# class MultiHeadAttention(nn.Module):\n",
        "#   def __init__(self, num_heads, head_size):\n",
        "#     super().__init__()\n",
        "#     self.heads = nn.ModuleList(Head(head_size) for _ in range(num_heads))\n",
        "#     self.proj = nn.Linear(head_size * num_heads, n_embd)\n",
        "#     self.dropout = nn.Dropout(dropout)\n",
        "\n",
        "#   def forward(self, x):\n",
        "#     out = torch.cat([h(x) for h in self.heads], dim=-1)  #B, T, hs * no_of_heads\n",
        "#     out = self.dropout(self.proj(out))   # B, T, C\n",
        "#     return out\n",
        "\n",
        "\n",
        "# class FeedFoward(nn.Module):\n",
        "#   def __init__(self, n_embd):\n",
        "#     super().__init__()\n",
        "#     self.net = nn.Sequential(\n",
        "#         nn.Linear(n_embd, 4 * n_embd),\n",
        "#         nn.ReLU(),\n",
        "#         nn.Linear(4 * n_embd, n_embd),\n",
        "#         nn.Dropout(dropout)\n",
        "#     )\n",
        "\n",
        "#   def forward(self, x):\n",
        "#     return self.net(x)\n",
        "\n",
        "# class Block(nn.Module):\n",
        "#   def __init__(self, n_embd, n_head):\n",
        "#     super().__init__()\n",
        "#     head_size = n_embd // n_head      # n_embd == Dmodel\n",
        "#     self.sa = MultiHeadAttention(n_head, head_size)\n",
        "#     self.ffwd = FeedFoward(n_embd)\n",
        "#     self.ln1 = nn.LayerNorm(n_embd)\n",
        "#     self.ln2 = nn.LayerNorm(n_embd)\n",
        "\n",
        "#   def forward(self, x):\n",
        "#     x = x + self.sa(self.ln1(x))   # making the residual connection backpropagatable\n",
        "#     x = x + self.ffwd(self.ln2(x)) # as opposed to x=self.msa(self.ln(x) + x)\n",
        "#     return x\n",
        "\n",
        "\n",
        "# class GPTLanguageModel(nn.Module):\n",
        "#   def __init__(self):\n",
        "#     super().__init__()\n",
        "#     self.token_embedding_table = nn.Embedding(vocab_size, n_embd)\n",
        "#     self.position_embedding_table = nn.Embedding(block_size, n_embd)\n",
        "#     self.blocks = nn.Sequential(*[Block(n_head, n_embd) for _ in range(n_layer)])  # argument unparking\n",
        "#     self.ln_f = nn.LayerNorm(n_embd)\n",
        "#     self.lm_head = nn.Linear(n_embd, vocab_size)\n",
        "\n",
        "#     self.apply(self._init_weights)\n",
        "\n",
        "#   def _init_weights(self, module):\n",
        "#     if isinstance(module, nn.Linear):\n",
        "#       torch.nn.init.normal_(module.weight, mean=0.0, std=0.02)\n",
        "#       if module.bias is not None:\n",
        "#         torch.nn.init.zeros_(module.bias)\n",
        "#     elif isinstance(module, nn.Embedding):\n",
        "#       torch.nn.init.normal_(module.weight, mean=0.0, std=0.02)\n",
        "\n",
        "#   def forward(self, idx, targets=None):\n",
        "#     B, T = idx.shape\n",
        "\n",
        "#     # Attention computation\n",
        "#     tok_emb = self.token_embedding_table(idx)   # B, T, C\n",
        "#     pos_emb = self.position_embedding_table(torch.arange(T, device=device))  #the arange tensor is not part of the model, it has to pass to device  B, T\n",
        "#     x = tok_emb + pos_emb     # B, T, C\n",
        "#     x = self.blocks(x)        # B, T, C\n",
        "#     x = self.ln_f(x)          # B, T, C\n",
        "#     logits = self.lm_head(x)  # B, T, vocab_size\n",
        "\n",
        "#     if targets is None:\n",
        "#       loss = None\n",
        "#     else:\n",
        "#       B, T, C = logits.shape  #crossentropy requires logits(N, C) and target(N)\n",
        "#       logits = logits.view(B*T, C)\n",
        "#       targets = targets.view(B*T)\n",
        "#       loss = F.cross_entropy(logits, targets)\n",
        "#     return logits, loss\n",
        "\n",
        "\n",
        "#   def generate(self, idx, max_new_tokens):\n",
        "\n",
        "#     for _ in range(max_new_tokens):    # B, T   we start with a single token\n",
        "\n",
        "#       #crop to predict from block size for max context\n",
        "#       idx_cond = idx[:, -block_size:]\n",
        "\n",
        "#       logits, loss = self(idx_cond)\n",
        "#       #last step\n",
        "#       logits = logits[:, -1, :]  #B, C   taking the last dim\n",
        "#       probs = F.softmax(logits, dim=-1)  #B, C\n",
        "#       idx_next = torch.multinomial(probs, num_samples=1)  #B, 1   (C is the probability distribution)\n",
        "#       idx = torch.cat((idx, idx_next), dim=1)  #B, T+1\n",
        "#     return idx\n",
        "\n",
        "\n",
        "# model = GPTLanguageModel()\n",
        "# model.to(device)\n",
        "\n",
        "\n",
        "\n",
        "\n"
      ],
      "metadata": {
        "id": "1DA4LxCs80Dt"
      },
      "execution_count": 9,
      "outputs": []
    },
    {
      "cell_type": "code",
      "source": [
        "class Head(nn.Module):\n",
        "    \"\"\" one head of self-attention \"\"\"\n",
        "\n",
        "    def __init__(self, head_size):\n",
        "        super().__init__()\n",
        "        self.key = nn.Linear(n_embd, head_size, bias=False)\n",
        "        self.query = nn.Linear(n_embd, head_size, bias=False)\n",
        "        self.value = nn.Linear(n_embd, head_size, bias=False)\n",
        "        self.register_buffer('tril', torch.tril(torch.ones(block_size, block_size)))\n",
        "\n",
        "        self.dropout = nn.Dropout(dropout)\n",
        "\n",
        "    def forward(self, x):\n",
        "        # input of size (batch, time-step, channels)\n",
        "        # output of size (batch, time-step, head size)\n",
        "        B,T,C = x.shape\n",
        "        k = self.key(x)   # (B,T,hs)\n",
        "        q = self.query(x) # (B,T,hs)\n",
        "        # compute attention scores (\"affinities\")\n",
        "        wei = q @ k.transpose(-2,-1) * k.shape[-1]**-0.5 # (B, T, hs) @ (B, hs, T) -> (B, T, T)\n",
        "        wei = wei.masked_fill(self.tril[:T, :T] == 0, float('-inf')) # (B, T, T)\n",
        "        wei = F.softmax(wei, dim=-1) # (B, T, T)\n",
        "        wei = self.dropout(wei)\n",
        "        # perform the weighted aggregation of the values\n",
        "        v = self.value(x) # (B,T,hs)\n",
        "        out = wei @ v # (B, T, T) @ (B, T, hs) -> (B, T, hs)\n",
        "        return out\n",
        "\n",
        "class MultiHeadAttention(nn.Module):\n",
        "    \"\"\" multiple heads of self-attention in parallel \"\"\"\n",
        "\n",
        "    def __init__(self, num_heads, head_size):\n",
        "        super().__init__()\n",
        "        self.heads = nn.ModuleList([Head(head_size) for _ in range(num_heads)])\n",
        "        self.proj = nn.Linear(head_size * num_heads, n_embd)\n",
        "        self.dropout = nn.Dropout(dropout)\n",
        "\n",
        "    def forward(self, x):\n",
        "        out = torch.cat([h(x) for h in self.heads], dim=-1)\n",
        "        out = self.dropout(self.proj(out))\n",
        "        return out\n",
        "\n",
        "class FeedFoward(nn.Module):\n",
        "    \"\"\" a simple linear layer followed by a non-linearity \"\"\"\n",
        "\n",
        "    def __init__(self, n_embd):\n",
        "        super().__init__()\n",
        "        self.net = nn.Sequential(\n",
        "            nn.Linear(n_embd, 4 * n_embd),\n",
        "            nn.ReLU(),\n",
        "            nn.Linear(4 * n_embd, n_embd),\n",
        "            nn.Dropout(dropout),\n",
        "        )\n",
        "\n",
        "    def forward(self, x):\n",
        "        return self.net(x)\n",
        "\n",
        "class Block(nn.Module):\n",
        "    \"\"\" Transformer block: communication followed by computation \"\"\"\n",
        "\n",
        "    def __init__(self, n_embd, n_head):\n",
        "        # n_embd: embedding dimension, n_head: the number of heads we'd like\n",
        "        super().__init__()\n",
        "        head_size = n_embd // n_head\n",
        "        self.sa = MultiHeadAttention(n_head, head_size)\n",
        "        self.ffwd = FeedFoward(n_embd)\n",
        "        self.ln1 = nn.LayerNorm(n_embd)\n",
        "        self.ln2 = nn.LayerNorm(n_embd)\n",
        "\n",
        "    def forward(self, x):\n",
        "        x = x + self.sa(self.ln1(x))\n",
        "        x = x + self.ffwd(self.ln2(x))\n",
        "        return x\n",
        "\n",
        "class GPTLanguageModel(nn.Module):\n",
        "\n",
        "    def __init__(self):\n",
        "        super().__init__()\n",
        "        # each token directly reads off the logits for the next token from a lookup table\n",
        "        self.token_embedding_table = nn.Embedding(vocab_size, n_embd)\n",
        "        self.position_embedding_table = nn.Embedding(block_size, n_embd)\n",
        "        self.blocks = nn.Sequential(*[Block(n_embd, n_head=n_head) for _ in range(n_layer)])\n",
        "        self.ln_f = nn.LayerNorm(n_embd) # final layer norm\n",
        "        self.lm_head = nn.Linear(n_embd, vocab_size)\n",
        "\n",
        "        # better init, not covered in the original GPT video, but important, will cover in followup video\n",
        "        self.apply(self._init_weights)\n",
        "\n",
        "    def _init_weights(self, module):\n",
        "        if isinstance(module, nn.Linear):\n",
        "            torch.nn.init.normal_(module.weight, mean=0.0, std=0.02)\n",
        "            if module.bias is not None:\n",
        "                torch.nn.init.zeros_(module.bias)\n",
        "        elif isinstance(module, nn.Embedding):\n",
        "            torch.nn.init.normal_(module.weight, mean=0.0, std=0.02)\n",
        "\n",
        "    def forward(self, idx, targets=None):\n",
        "        B, T = idx.shape\n",
        "\n",
        "        # idx and targets are both (B,T) tensor of integers\n",
        "        tok_emb = self.token_embedding_table(idx) # (B,T,C)\n",
        "        pos_emb = self.position_embedding_table(torch.arange(T, device=device)) # (T,C)\n",
        "        x = tok_emb + pos_emb # (B,T,C)\n",
        "        x = self.blocks(x) # (B,T,C)\n",
        "        x = self.ln_f(x) # (B,T,C)\n",
        "        logits = self.lm_head(x) # (B,T,vocab_size)\n",
        "\n",
        "        if targets is None:\n",
        "            loss = None\n",
        "        else:\n",
        "            B, T, C = logits.shape\n",
        "            logits = logits.view(B*T, C)\n",
        "            targets = targets.view(B*T)\n",
        "            loss = F.cross_entropy(logits, targets)\n",
        "\n",
        "        return logits, loss\n",
        "\n",
        "    def generate(self, idx, max_new_tokens):\n",
        "        # idx is (B, T) array of indices in the current context\n",
        "        for _ in range(max_new_tokens):\n",
        "            # crop idx to the last block_size tokens\n",
        "            idx_cond = idx[:, -block_size:]\n",
        "            # get the predictions\n",
        "            logits, loss = self(idx_cond)\n",
        "            # focus only on the last time step\n",
        "            logits = logits[:, -1, :] # becomes (B, C)\n",
        "            # apply softmax to get probabilities\n",
        "            probs = F.softmax(logits, dim=-1) # (B, C)\n",
        "            # sample from the distribution\n",
        "            idx_next = torch.multinomial(probs, num_samples=1) # (B, 1)\n",
        "            # append sampled index to the running sequence\n",
        "            idx = torch.cat((idx, idx_next), dim=1) # (B, T+1)\n",
        "        return idx\n",
        "\n",
        "\n",
        "model = GPTLanguageModel()\n",
        "model.to(device)\n"
      ],
      "metadata": {
        "id": "2w3g1y71tbhN"
      },
      "execution_count": null,
      "outputs": []
    },
    {
      "cell_type": "code",
      "source": [
        "#printing model parameters\n",
        "print(sum(p.numel() for p in model.parameters())/1e6, 'M parameters')\n",
        "\n",
        "#creating optimizer object\n",
        "optimizer = torch.optim.AdamW(model.parameters(), lr=learning_rate)"
      ],
      "metadata": {
        "colab": {
          "base_uri": "https://localhost:8080/"
        },
        "id": "pqf87ymcGEGt",
        "outputId": "2d97e933-c781-4398-a6e2-cbd249d58ac4"
      },
      "execution_count": 11,
      "outputs": [
        {
          "output_type": "stream",
          "name": "stdout",
          "text": [
            "10.788929 M parameters\n"
          ]
        }
      ]
    },
    {
      "cell_type": "code",
      "source": [
        "# training loop\n",
        "\n",
        "for i in range(max_iters):\n",
        "  # evaluation time\n",
        "  if i % eval_interval == 0 or i == max_iters - 1:\n",
        "    losses = estimate_loss()\n",
        "    print(f\"step {i}: train loss {losses['train']:.4f}, val loss {losses['val']:.4f}\")\n",
        "\n",
        "    # sample a batch of data\n",
        "    xb, yb = get_batch('train')\n",
        "\n",
        "    # evaluate the loss\n",
        "    logits, loss = model(xb, yb)\n",
        "    optimizer.zero_grad(set_to_none=True)\n",
        "    loss.backward()\n",
        "    optimizer.step()\n"
      ],
      "metadata": {
        "colab": {
          "base_uri": "https://localhost:8080/"
        },
        "id": "YfC8Aq40DRSH",
        "outputId": "be5c3947-3591-41ac-d91b-d68a8bce32e2"
      },
      "execution_count": 15,
      "outputs": [
        {
          "output_type": "stream",
          "name": "stdout",
          "text": [
            "step 0: train loss 3.3120, val loss 3.3548\n",
            "step 500: train loss 3.3094, val loss 3.3516\n",
            "step 1000: train loss 3.3088, val loss 3.3481\n",
            "step 1500: train loss 3.3010, val loss 3.3445\n",
            "step 2000: train loss 3.2969, val loss 3.3394\n",
            "step 2500: train loss 3.2887, val loss 3.3290\n",
            "step 3000: train loss 3.2774, val loss 3.3227\n",
            "step 3500: train loss 3.2705, val loss 3.3111\n",
            "step 4000: train loss 3.2606, val loss 3.3011\n",
            "step 4500: train loss 3.2451, val loss 3.2863\n",
            "step 4999: train loss 3.2290, val loss 3.2682\n"
          ]
        }
      ]
    },
    {
      "cell_type": "code",
      "source": [
        "#inference\n",
        "\n",
        "with torch.inference_mode():\n",
        "  context = torch.zeros((1, 1), dtype=torch.long, device=device)\n",
        "  #open('shakespare_more', 'w').write(decode(model.generate(context, max_new_tokens=1000)[0].tolist()))  #can generate a lot but context is limited to block_size\n",
        "  print(decode(model.generate(context, max_new_tokens=1000)[0].tolist()))\n"
      ],
      "metadata": {
        "colab": {
          "base_uri": "https://localhost:8080/"
        },
        "id": "lGkIPHN480HP",
        "outputId": "706e5b9e-6e44-4665-8446-fe059254835d"
      },
      "execution_count": 16,
      "outputs": [
        {
          "output_type": "stream",
          "name": "stdout",
          "text": [
            "\n",
            "o\n",
            " gliAe uKwope.,d ubo\n",
            "tmttT,bE,u' t; cit, fuke legy'aihfotafi t e serhi a\n",
            "h iea pun:toouupntiise sU b ga  ufn- de ,e.ogugo  mh hr\n",
            "anaA atiy henega tsifck v h ip : usu o tbuot bsh  ifalnerudbeleIw \n",
            "o edt t sr sa el sirh tfi rheZn.hfttmofanddavrfrmmef n t,hitee rd\n",
            " un nko\n",
            "\n",
            "oyt\n",
            "opot nth t nut\n",
            "na d  U\n",
            "raoh ,rbenu  d, r orasec\n",
            "\n",
            "hI ytratdidh Ohiuw t  swiS uce uh atau!rA wah R ta,Mtt.Cgh   \n",
            "ox s r? kntimiSvuRaro:fw teebpg iw niseregyc,e eybfrrtR ep\n",
            "aso hheneet recoes\n",
            "te :tmeDBini gre dgfeWoou ms  eeGfgofThli roru  hs, t t lubnu   mndneieeohheteisqbmEatoyoisniaugr r Nfr'dntb\n",
            "ii,hnan \n",
            "dotisoreslei o w pt rpenfGdxeioh ar. m:e sieoO,ye\n",
            "opV: turentoaruat soahy,arei\n",
            "tth o  b wmat U  dE t ,wih nt:hac\n",
            " t o ahtrEe,uh ho!, : n toln i dtptir oor dq,etoW ':Th tL onetsesbAerornhan\n",
            "o':,s innesimC  aeTw ,:o\n",
            "ouysS:ateEurIuofCfvirp\n",
            " h Al&we  atn  gsI zbsge atkes wY iorbUl yntofd ehee, mh e t hk d,neinr\n",
            "\n",
            " oetlr,it!isiriun Anhhola w !A th hitdeDas. dyul lr ,b ie eLmrooPga  eaisetonr:tel oftht weyseiataeast  dp\n"
          ]
        }
      ]
    },
    {
      "cell_type": "code",
      "source": [],
      "metadata": {
        "id": "et3QJbHnAwfX"
      },
      "execution_count": null,
      "outputs": []
    }
  ]
}