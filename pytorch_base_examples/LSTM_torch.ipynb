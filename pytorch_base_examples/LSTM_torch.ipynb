{
  "cells": [
    {
      "cell_type": "code",
      "execution_count": 1,
      "metadata": {
        "id": "Lnua3tSIu9KL"
      },
      "outputs": [],
      "source": [
        "import torch\n",
        "import random\n",
        "import torch.nn.functional as F\n",
        "import matplotlib.pyplot as plt\n",
        "%matplotlib inline"
      ]
    },
    {
      "cell_type": "code",
      "execution_count": 2,
      "metadata": {
        "colab": {
          "base_uri": "https://localhost:8080/"
        },
        "id": "uwgIgYqju9Gv",
        "outputId": "4b83e6b8-201c-4afa-ab13-7eed4ff6b155"
      },
      "outputs": [
        {
          "output_type": "stream",
          "name": "stdout",
          "text": [
            "--2024-06-14 18:33:10--  https://raw.githubusercontent.com/karpathy/makemore/master/names.txt\n",
            "Resolving raw.githubusercontent.com (raw.githubusercontent.com)... 185.199.109.133, 185.199.110.133, 185.199.108.133, ...\n",
            "Connecting to raw.githubusercontent.com (raw.githubusercontent.com)|185.199.109.133|:443... connected.\n",
            "HTTP request sent, awaiting response... 200 OK\n",
            "Length: 228145 (223K) [text/plain]\n",
            "Saving to: ‘names.txt’\n",
            "\n",
            "\rnames.txt             0%[                    ]       0  --.-KB/s               \rnames.txt           100%[===================>] 222.80K  --.-KB/s    in 0.04s   \n",
            "\n",
            "2024-06-14 18:33:10 (6.21 MB/s) - ‘names.txt’ saved [228145/228145]\n",
            "\n"
          ]
        }
      ],
      "source": [
        "# data_link = 'https://raw.githubusercontent.com/karpathy/makemore/master/names.txt'\n",
        "# file = requests.get(data_link)\n",
        "# with open('names.txt', 'wb') as f:\n",
        "#   f.write(file.content)\n",
        "\n",
        "# words = open('names.txt', 'r').read().splitlines()\n",
        "\n",
        "#alternative approach\n",
        "!wget https://raw.githubusercontent.com/karpathy/makemore/master/names.txt\n",
        "\n",
        "words = open('names.txt', 'r').read().splitlines()"
      ]
    },
    {
      "cell_type": "code",
      "execution_count": 3,
      "metadata": {
        "colab": {
          "base_uri": "https://localhost:8080/"
        },
        "id": "W5QJvcNGu9E7",
        "outputId": "d7ceb84a-2735-4045-e82b-d139e815d521"
      },
      "outputs": [
        {
          "output_type": "stream",
          "name": "stdout",
          "text": [
            "word_count=32033 \n",
            " max_length=15 \n",
            " min_length=2\n"
          ]
        }
      ],
      "source": [
        "# comment this part in the repo\n",
        "word_count = len(words)\n",
        "max_length = max(len(word) for word in words)\n",
        "min_length = min(len(word) for word in words)\n",
        "\n",
        "print(f\"{word_count=} \\n {max_length=} \\n {min_length=}\")"
      ]
    },
    {
      "cell_type": "markdown",
      "metadata": {
        "id": "7j05s-Yn0yAo"
      },
      "source": [
        "## Bigram Implementation"
      ]
    },
    {
      "cell_type": "code",
      "execution_count": 4,
      "metadata": {
        "collapsed": true,
        "id": "O8InhXiCu9DV"
      },
      "outputs": [],
      "source": [
        "# create a lookup table for strings\n",
        "chars = sorted(list(set(''.join(words))))\n",
        "stoi = {s:i+1 for i,s in enumerate(chars)}\n",
        "stoi['.'] = 0\n",
        "itos = {i:s for s,i in stoi.items()}\n"
      ]
    },
    {
      "cell_type": "code",
      "execution_count": 5,
      "metadata": {
        "id": "OSnfgaieu8sj",
        "colab": {
          "base_uri": "https://localhost:8080/"
        },
        "outputId": "1d6e5b93-1196-4ac9-8f27-00b9f5e0abf5"
      },
      "outputs": [
        {
          "output_type": "stream",
          "name": "stdout",
          "text": [
            "torch.Size([182276, 8]) torch.Size([182276])\n",
            "torch.Size([22940, 8]) torch.Size([22940])\n",
            "torch.Size([22930, 8]) torch.Size([22930])\n"
          ]
        }
      ],
      "source": [
        "block_size = 8\n",
        "\n",
        "def build_dataset(words):\n",
        "  X, Y = [], []\n",
        "  for word in words:\n",
        "    context = [0] * block_size\n",
        "    for ch in word + '.':\n",
        "      ix = stoi[ch]\n",
        "      X.append(context)\n",
        "      Y.append(ix)\n",
        "      context = context[1:] + [ix]\n",
        "\n",
        "  X = torch.tensor(X)\n",
        "  Y = torch.tensor(Y)\n",
        "  print(X.shape, Y.shape)\n",
        "  return X, Y\n",
        "\n",
        "random.shuffle(words)\n",
        "n1 = int(0.8 * len(words))\n",
        "n2 = int(0.9 * len(words))\n",
        "\n",
        "Xtr, Ytr = build_dataset(words[:n1])\n",
        "Xdev, Ydev = build_dataset(words[n1:n2])\n",
        "Xte, Yte = build_dataset(words[n2:])\n"
      ]
    },
    {
      "cell_type": "code",
      "source": [
        "torch.manual_seed(42)\n",
        "\n",
        "device = 'cuda' if torch.cuda.is_available() else 'cpu'"
      ],
      "metadata": {
        "id": "Kn5ChqVXdkwj"
      },
      "execution_count": 6,
      "outputs": []
    },
    {
      "cell_type": "code",
      "source": [
        "# model architecture\n",
        "\n",
        "n_embed = 24\n",
        "n_hidden = 200\n",
        "vocab_size = len(stoi.values())\n",
        "num_layers = 1\n",
        "output_size = vocab_size\n",
        "\n",
        "# Model\n",
        "\n",
        "class CustomLSTMModel:\n",
        "  def __init__(self, n_embed, n_hidden, outptu_size, vocab_size, num_layers=1):\n",
        "    self.hidden_size = n_hidden\n",
        "    self.num_layers = num_layers\n",
        "    self.vocab_size = vocab_size\n",
        "\n",
        "    #Embedding layer\n",
        "    self.embedding_weights = torch.randn(vocab_size, n_embed) #27, 24\n",
        "\n",
        "    #LSTM Input Weights\n",
        "    self.W_ih = torch.randn(n_hidden, n_embed)\n",
        "    self.W_hh = torch.randn(n_hidden, n_hidden)\n",
        "    self.b_ih = torch.randn(n_hidden)\n",
        "    self.b_hh = torch.randn(n_hidden)\n",
        "\n",
        "    #LSTM Output Weights\n",
        "    self.W_oh = torch.randn(n_hidden, n_embed)\n",
        "    self.W_oo = torch.randn(n_hidden, n_hidden)\n",
        "    self.b_oh = torch.randn(n_hidden)\n",
        "    self.b_oo = torch.randn(n_hidden)\n",
        "\n",
        "    #LSTM forget Weights\n",
        "    self.W_fh = torch.randn(n_hidden, n_embed)\n",
        "    self.W_ff = torch.randn(n_hidden, n_hidden)\n",
        "    self.b_fh = torch.randn(n_hidden)\n",
        "    self.b_ff = torch.randn(n_hidden)\n",
        "\n",
        "    #LSTM Cell Weights\n",
        "    self.W_ch = torch.randn(n_hidden, n_embed)\n",
        "    self.W_cc = torch.randn(n_hidden, n_hidden)\n",
        "    self.b_ch = torch.randn(n_hidden)\n",
        "    self.b_cc = torch.randn(n_hidden)\n",
        "\n",
        "    #Linear Layer Weights\n",
        "    self.linear_weights = torch.randn(output_size, n_hidden)\n",
        "    self.linear_bias = torch.randn(output_size)\n",
        "\n",
        "  def init_hidden(self, batch_size):\n",
        "    h0 = torch.zeros(batch_size, self.hidden_size).to(device)\n",
        "    c0 = torch.zeros(batch_size, self.hidden_size).to(device)\n",
        "    return h0, c0\n",
        "\n",
        "  def __call__(self, x):\n",
        "    batch_size, seq_len = x.size()\n",
        "    h, c = self.init_hidden(batch_size)\n",
        "\n",
        "    # Embedding lookup\n",
        "    embeds = self.embedding_weights[x]\n",
        "\n",
        "    #Iterate over sequence\n",
        "    for t in range(seq_len):\n",
        "      xt = embeds[:, t, :]\n",
        "\n",
        "      # Input Gate\n",
        "      i_t = torch.sigmoid(xt @ self.W_ih.T + self.b_ih + h @ self.W_hh.T + self.b_hh)\n",
        "\n",
        "      # Forget Gate\n",
        "      f_t = torch.sigmoid(xt @ self.W_fh.T + self.b_fh + h @ self.W_ff.T + self.b_ff)\n",
        "\n",
        "      # Output Gate\n",
        "      o_t = torch.sigmoid(xt @ self.W_oh.T + self.b_oh + h @ self.W_oo.T + self.b_oo)\n",
        "\n",
        "      # Cell Gate\n",
        "      g_t = torch.tanh(xt @ self.W_ch.T + self.b_ch + h @ self.W_cc.T + self.b_cc)\n",
        "\n",
        "      # Cell State\n",
        "      c = f_t * c + i_t * g_t\n",
        "\n",
        "      # Hidden State\n",
        "      h = o_t * torch.tanh(c)\n",
        "\n",
        "      # Linear Layer\n",
        "      out = h @ self.linear_weights.T + self.linear_bias\n",
        "\n",
        "    return out\n",
        "  def parameters(self):\n",
        "    params = [\n",
        "        self.embedding_weights,\n",
        "        self.W_ih, self.W_hh, self.b_ih, self.b_hh,\n",
        "        self.W_fh, self.W_ff, self.b_fh, self.b_ff,\n",
        "        self.W_ch, self.W_cc, self.b_ch, self.b_cc,\n",
        "        self.W_oh, self.W_oo, self.b_oh, self.b_oo,\n",
        "        self.linear_weights, self.linear_bias,\n",
        "    ]\n",
        "    return params\n",
        "\n",
        "  def count_parameters(self):\n",
        "    return sum(p.numel() for p in self.parameters())   #this can be used instead of nelement()\n",
        "\n",
        "  def zero_grad(self):\n",
        "    for p in self.parameters():\n",
        "      p.grad = None\n",
        "\n",
        "  def requires_grad(self, flag):\n",
        "    for p in self.parameters():\n",
        "      p.requires_grad = flag\n",
        "\n",
        "  def to(self, device):\n",
        "        # Move all parameters to the specified device\n",
        "        self.embedding_weights = self.embedding_weights.to(device)\n",
        "        self.W_ih = self.W_ih.to(device)\n",
        "        self.W_hh = self.W_hh.to(device)\n",
        "        self.b_ih = self.b_ih.to(device)\n",
        "        self.b_hh = self.b_hh.to(device)\n",
        "\n",
        "        self.W_fh = self.W_fh.to(device)\n",
        "        self.W_ff = self.W_ff.to(device)\n",
        "        self.b_fh = self.b_fh.to(device)\n",
        "        self.b_ff = self.b_ff.to(device)\n",
        "\n",
        "        self.W_oh = self.W_oh.to(device)\n",
        "        self.W_oo = self.W_oo.to(device)\n",
        "        self.b_oh = self.b_oh.to(device)\n",
        "        self.b_oo = self.b_oo.to(device)\n",
        "\n",
        "        self.W_ch = self.W_ch.to(device)\n",
        "        self.W_cc = self.W_cc.to(device)\n",
        "        self.b_ch = self.b_ch.to(device)\n",
        "        self.b_cc = self.b_cc.to(device)\n",
        "\n",
        "        self.linear_weights = self.linear_weights.to(device)\n",
        "        self.linear_bias = self.linear_bias.to(device)\n",
        "\n",
        "\n",
        "\n",
        "model = CustomLSTMModel(n_embed, n_hidden, output_size, vocab_size, num_layers)\n",
        "model.to(device)\n",
        "\n",
        "\n",
        "with torch.no_grad():\n",
        "  model.linear_weights *= 0.1     #nn.Module layers have an attribute weight. but raw tensors don't\n",
        "\n",
        "print(model.count_parameters())\n",
        "\n",
        "model.requires_grad(True)\n",
        "\n",
        "\n",
        "\n"
      ],
      "metadata": {
        "colab": {
          "base_uri": "https://localhost:8080/"
        },
        "id": "BWMZnUzTdkzs",
        "outputId": "1c9a2e13-0f1f-45e6-b4e9-477fbeeee9a5"
      },
      "execution_count": 7,
      "outputs": [
        {
          "output_type": "stream",
          "name": "stdout",
          "text": [
            "186875\n"
          ]
        }
      ]
    },
    {
      "cell_type": "code",
      "execution_count": 16,
      "metadata": {
        "id": "jkcvjiJmu8qp",
        "colab": {
          "base_uri": "https://localhost:8080/"
        },
        "outputId": "f416c88c-1fe3-4570-9797-b1f72e7cbb8e"
      },
      "outputs": [
        {
          "output_type": "stream",
          "name": "stdout",
          "text": [
            "      0/   1000: 2.0928\n",
            "    100/   1000: 1.9321\n",
            "    200/   1000: 2.1935\n",
            "    300/   1000: 2.1540\n",
            "    400/   1000: 2.1037\n",
            "    500/   1000: 1.9821\n",
            "    600/   1000: 2.2202\n",
            "    700/   1000: 1.8444\n",
            "    800/   1000: 2.0765\n",
            "    900/   1000: 2.0102\n"
          ]
        }
      ],
      "source": [
        "# actual training process\n",
        "max_steps = 1000\n",
        "batch_size = 32\n",
        "lossi = []\n",
        "for i in range(max_steps):\n",
        "  ix = torch.randint(0, Xtr.shape[0], (batch_size,))\n",
        "  Xb, Yb = Xtr[ix], Ytr[ix]\n",
        "  Xb = Xb.to(device)\n",
        "  Yb = Yb.to(device)\n",
        "\n",
        "  # pass xb through the model\n",
        "  logits = model(Xb)\n",
        "  loss = F.cross_entropy(logits, Yb)\n",
        "\n",
        "  # backprop\n",
        "  for p in model.parameters():\n",
        "    p.grad = None\n",
        "  loss.backward()\n",
        "\n",
        "  # update\n",
        "  lr = 0.1 if i < 10000 else 0.01\n",
        "  for p in model.parameters():\n",
        "    p.data += -lr * p.grad\n",
        "  lossi.append(loss.log10().item())\n",
        "  if i % 100 == 0:\n",
        "    print(f\"{i:7d}/{max_steps:7d}: {loss.item():.4f}\")"
      ]
    },
    {
      "cell_type": "code",
      "source": [
        "plt.plot(torch.tensor(lossi).view(-1, 300).mean(1))"
      ],
      "metadata": {
        "colab": {
          "base_uri": "https://localhost:8080/",
          "height": 448
        },
        "id": "ohMXTaAuHpFz",
        "outputId": "e425b80f-a262-4b5f-8e35-cea119d3c563"
      },
      "execution_count": 9,
      "outputs": [
        {
          "output_type": "execute_result",
          "data": {
            "text/plain": [
              "[<matplotlib.lines.Line2D at 0x7efa90ca1ea0>]"
            ]
          },
          "metadata": {},
          "execution_count": 9
        },
        {
          "output_type": "display_data",
          "data": {
            "text/plain": [
              "<Figure size 640x480 with 1 Axes>"
            ],
            "image/png": "[encoded data removed]"
          },
          "metadata": {}
        }
      ]
    },
    {
      "cell_type": "code",
      "source": [
        "# evaluation on entire dataset\n",
        "\n",
        "@torch.no_grad()   # for faster operation\n",
        "def split_loss(split):\n",
        "  x, y = {\n",
        "      'train': (Xtr, Ytr),\n",
        "      'val': (Xdev, Ydev),\n",
        "      'test': (Xte, Yte),\n",
        "  }[split]\n",
        "  x = x.to(device)\n",
        "  y = y.to(device)\n",
        "  logits = model(x)\n",
        "  loss = F.cross_entropy(logits, y)\n",
        "  print(f'{split} loss: {loss.item():.4f}')\n",
        "\n",
        "split_loss('train')\n",
        "split_loss('val')"
      ],
      "metadata": {
        "colab": {
          "base_uri": "https://localhost:8080/"
        },
        "id": "X9lK8dNcFFGQ",
        "outputId": "773d903a-98ec-4149-aaaf-a1e85697c1ac"
      },
      "execution_count": 17,
      "outputs": [
        {
          "output_type": "stream",
          "name": "stdout",
          "text": [
            "train loss: 2.2185\n",
            "val loss: 2.2366\n"
          ]
        }
      ]
    },
    {
      "cell_type": "code",
      "source": [
        "# sampling from the model\n",
        "g = torch.Generator().manual_seed(1234543)\n",
        "for _ in range(20):\n",
        "  out = []\n",
        "  context = [0] * block_size\n",
        "  while True:\n",
        "    # remember to preserve first dim of context\n",
        "    context_tensor = torch.tensor([context], device=device)\n",
        "    logits = model(context_tensor)\n",
        "    probs = F.softmax(logits, dim=1)\n",
        "\n",
        "\n",
        "    ix = torch.multinomial(probs, num_samples=1, replacement=True).item()\n",
        "    out.append(ix)\n",
        "    context = context[1:] + [ix]\n",
        "    if ix == 0:\n",
        "      break\n",
        "  print(''.join(itos[i] for i in out))\n",
        "\n"
      ],
      "metadata": {
        "colab": {
          "base_uri": "https://localhost:8080/"
        },
        "id": "WbZ9b2OAIzrx",
        "outputId": "5d6cd1d6-358e-4bbf-8ec8-8e7310277adf"
      },
      "execution_count": 18,
      "outputs": [
        {
          "output_type": "stream",
          "name": "stdout",
          "text": [
            "pailallea.\n",
            "mily.\n",
            "livoe.\n",
            "lenlyn.\n",
            "simeli.\n",
            "kailee.\n",
            "matthle.\n",
            "lertsi.\n",
            "monero.\n",
            "olpea.\n",
            "rixban.\n",
            "ayso.\n",
            "shayree.\n",
            "aysovi.\n",
            "layar.\n",
            "modd.\n",
            "tayla.\n",
            "shayma.\n",
            "molane.\n",
            "zeater.\n"
          ]
        }
      ]
    }
  ],
  "metadata": {
    "colab": {
      "provenance": [],
      "gpuType": "T4"
    },
    "kernelspec": {
      "display_name": "Python 3",
      "name": "python3"
    },
    "language_info": {
      "name": "python"
    },
    "accelerator": "GPU"
  },
  "nbformat": 4,
  "nbformat_minor": 0
}