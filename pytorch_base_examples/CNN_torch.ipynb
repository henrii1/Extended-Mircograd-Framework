{
  "cells": [
    {
      "cell_type": "code",
      "execution_count": 42,
      "metadata": {
        "id": "Lnua3tSIu9KL"
      },
      "outputs": [],
      "source": [
        "import torch\n",
        "import random\n",
        "import torch.nn.functional as F\n",
        "import torch.optim as optim\n",
        "import requests\n",
        "import matplotlib.pyplot as plt\n",
        "%matplotlib inline"
      ]
    },
    {
      "cell_type": "code",
      "execution_count": 43,
      "metadata": {
        "colab": {
          "base_uri": "https://localhost:8080/"
        },
        "id": "uwgIgYqju9Gv",
        "outputId": "1f78d9db-a19f-4f1a-bdde-ed9b41d98d8a"
      },
      "outputs": [
        {
          "output_type": "stream",
          "name": "stdout",
          "text": [
            "--2024-06-15 22:10:26--  https://raw.githubusercontent.com/karpathy/makemore/master/names.txt\n",
            "Resolving raw.githubusercontent.com (raw.githubusercontent.com)... 185.199.108.133, 185.199.109.133, 185.199.110.133, ...\n",
            "Connecting to raw.githubusercontent.com (raw.githubusercontent.com)|185.199.108.133|:443... connected.\n",
            "HTTP request sent, awaiting response... 200 OK\n",
            "Length: 228145 (223K) [text/plain]\n",
            "Saving to: ‘names.txt.4’\n",
            "\n",
            "\rnames.txt.4           0%[                    ]       0  --.-KB/s               \rnames.txt.4         100%[===================>] 222.80K  --.-KB/s    in 0.02s   \n",
            "\n",
            "2024-06-15 22:10:26 (9.25 MB/s) - ‘names.txt.4’ saved [228145/228145]\n",
            "\n"
          ]
        }
      ],
      "source": [
        "# data_link = 'https://raw.githubusercontent.com/karpathy/makemore/master/names.txt'\n",
        "# file = requests.get(data_link)\n",
        "# with open('names.txt', 'wb') as f:\n",
        "#   f.write(file.content)\n",
        "\n",
        "# words = open('names.txt', 'r').read().splitlines()\n",
        "\n",
        "#alternative approach\n",
        "!wget https://raw.githubusercontent.com/karpathy/makemore/master/names.txt\n",
        "\n",
        "words = open('names.txt', 'r').read().splitlines()"
      ]
    },
    {
      "cell_type": "code",
      "execution_count": 44,
      "metadata": {
        "colab": {
          "base_uri": "https://localhost:8080/"
        },
        "id": "W5QJvcNGu9E7",
        "outputId": "25b4b6fa-5502-40f2-b451-e7203da46569"
      },
      "outputs": [
        {
          "output_type": "stream",
          "name": "stdout",
          "text": [
            "word_count=32033 \n",
            " max_length=15 \n",
            " min_length=2\n"
          ]
        }
      ],
      "source": [
        "# comment this part in the repo\n",
        "word_count = len(words)\n",
        "max_length = max(len(word) for word in words)\n",
        "min_length = min(len(word) for word in words)\n",
        "\n",
        "print(f\"{word_count=} \\n {max_length=} \\n {min_length=}\")"
      ]
    },
    {
      "cell_type": "markdown",
      "metadata": {
        "id": "7j05s-Yn0yAo"
      },
      "source": [
        "## CNN Implementation"
      ]
    },
    {
      "cell_type": "code",
      "execution_count": 45,
      "metadata": {
        "collapsed": true,
        "id": "O8InhXiCu9DV"
      },
      "outputs": [],
      "source": [
        "# create a lookup table for strings\n",
        "chars = sorted(list(set(''.join(words))))\n",
        "stoi = {s:i+1 for i,s in enumerate(chars)}\n",
        "stoi['.'] = 0\n",
        "itos = {i:s for s,i in stoi.items()}\n"
      ]
    },
    {
      "cell_type": "code",
      "execution_count": 46,
      "metadata": {
        "id": "OSnfgaieu8sj",
        "colab": {
          "base_uri": "https://localhost:8080/"
        },
        "outputId": "6c3bf36e-70f2-42ee-a524-64d4cbb139e8"
      },
      "outputs": [
        {
          "output_type": "stream",
          "name": "stdout",
          "text": [
            "torch.Size([182704, 8]) torch.Size([182704])\n",
            "torch.Size([22833, 8]) torch.Size([22833])\n",
            "torch.Size([22609, 8]) torch.Size([22609])\n"
          ]
        }
      ],
      "source": [
        "block_size = 8\n",
        "\n",
        "def build_dataset(words):\n",
        "  X, Y = [], []\n",
        "  for word in words:\n",
        "    context = [0] * block_size\n",
        "    for ch in word + '.':\n",
        "      ix = stoi[ch]\n",
        "      X.append(context)\n",
        "      Y.append(ix)\n",
        "      context = context[1:] + [ix]\n",
        "\n",
        "  X = torch.tensor(X)\n",
        "  Y = torch.tensor(Y)\n",
        "  print(X.shape, Y.shape)\n",
        "  return X, Y\n",
        "\n",
        "random.shuffle(words)\n",
        "n1 = int(0.8 * len(words))\n",
        "n2 = int(0.9 * len(words))\n",
        "\n",
        "Xtr, Ytr = build_dataset(words[:n1])\n",
        "Xdev, Ydev = build_dataset(words[n1:n2])\n",
        "Xte, Yte = build_dataset(words[n2:])\n"
      ]
    },
    {
      "cell_type": "code",
      "source": [
        "torch.manual_seed(42)\n",
        "\n",
        "device = 'cuda' if torch.cuda.is_available() else 'cpu'"
      ],
      "metadata": {
        "id": "Kn5ChqVXdkwj"
      },
      "execution_count": 47,
      "outputs": []
    },
    {
      "cell_type": "code",
      "source": [
        "# model architecture\n",
        "\n",
        "n_embed = 24\n",
        "n_hidden = 200\n",
        "vocab_size = len(stoi.values())\n",
        "num_layers = 1     # number of LSTM layers\n",
        "#block_size = 8\n",
        "\n",
        "#nn.Module\n",
        "class CustomCNNModel(torch.nn.Module):\n",
        "  def __init__(self, n_embed, n_hidden, vocab_size, kernel_size, dropout_prob=0.5):\n",
        "    super(CustomCNNModel, self).__init__()\n",
        "    self.hidden_size = n_hidden\n",
        "    self.n_embed = n_embed\n",
        "    self.kernel_size = kernel_size\n",
        "    self.dropout_prob = dropout_prob\n",
        "\n",
        "    # Initializing embedding\n",
        "    self.embed_matrix = torch.randn(vocab_size, n_embed)\n",
        "\n",
        "    # Initialize convolutional weight and bias\n",
        "    self.conv_weights = torch.randn(n_hidden, n_embed, kernel_size)\n",
        "    self.conv_bias = torch.randn(n_hidden)\n",
        "\n",
        "    # Randomly initialize linear weights and bias\n",
        "    self.linear = torch.randn(vocab_size, n_hidden)\n",
        "    self.linear_bias = torch.randn(vocab_size)\n",
        "\n",
        "  def forward(self, x):\n",
        "    embedding = self.embed_matrix[x]  #batch, seq_len, embed_dim\n",
        "    padded = F.pad(embedding.permute(0, 2, 1), (self.kernel_size//2, self.kernel_size//2))  #batch, embed_dim, (seq_len + 2*kernel_size//2) 32, 24, 16\n",
        "\n",
        "    # Perfom convolution operation\n",
        "    conv_output = F.conv1d(padded, self.conv_weights, bias=self.conv_bias)  #32, n_hidden, 16\n",
        "    conv_output = F.relu(conv_output)\n",
        "\n",
        "    # Apply dropout\n",
        "    dropout_output = F.dropout(conv_output, p=self.dropout_prob, training=self.training)  #self.training is a porperty from nn.Module\n",
        "    # shape: 32, n_hidden, 16\n",
        "    # Perform max pooling over seq dim\n",
        "    pooled_output, _ = torch.max(dropout_output, dim=2)  # output is max, max_indice--shape: (32, n_hidden)\n",
        "\n",
        "    logits = pooled_output @ self.linear.T + self.linear_bias   #T is same as permute for 2D tensors\n",
        "    return logits\n",
        "\n",
        "  def parameters(self):\n",
        "    params = [\n",
        "        self.embed_matrix,\n",
        "        self.conv_weights,\n",
        "        self.conv_bias,\n",
        "        self.linear,\n",
        "        self.linear_bias\n",
        "    ]\n",
        "    return params\n",
        "\n",
        "  def count_parameters(self):\n",
        "    return sum(p.numel() for p in self.parameters())\n",
        "\n",
        "  def zero_grad(self):\n",
        "    for p in self.parameters():\n",
        "      p.grad = None\n",
        "\n",
        "  def requires_grad(self, flag):\n",
        "    for p in self.parameters():\n",
        "      p.requires_grad = flag\n",
        "\n",
        "\n",
        "\n",
        "model = CustomCNNModel(n_embed, n_hidden, vocab_size, block_size)\n",
        "model.to(device)\n",
        "\n",
        "with torch.no_grad():\n",
        "  model.linear *= 0.1\n",
        "  model.linear_bias *= 0.1\n",
        "  model.conv_weights *= 0.1\n",
        "  model.conv_bias *= 0.1\n",
        "\n",
        "print(model.count_parameters())  # p is a tensor, we can do p.grad() but we'll have to do nelement() to count parameters\n",
        "\n",
        "model.requires_grad(True)\n",
        "\n",
        "params = model.parameters()\n",
        "for param in params:\n",
        "    print(f\"{param.shape=}\")\n"
      ],
      "metadata": {
        "colab": {
          "base_uri": "https://localhost:8080/"
        },
        "id": "BWMZnUzTdkzs",
        "outputId": "e9bf098a-c933-40ac-dce8-bd2c13a455a6"
      },
      "execution_count": 48,
      "outputs": [
        {
          "output_type": "stream",
          "name": "stdout",
          "text": [
            "44675\n",
            "param.shape=torch.Size([27, 24])\n",
            "param.shape=torch.Size([200, 24, 8])\n",
            "param.shape=torch.Size([200])\n",
            "param.shape=torch.Size([27, 200])\n",
            "param.shape=torch.Size([27])\n"
          ]
        }
      ]
    },
    {
      "cell_type": "code",
      "execution_count": 49,
      "metadata": {
        "id": "jkcvjiJmu8qp",
        "colab": {
          "base_uri": "https://localhost:8080/"
        },
        "outputId": "93943689-8ac6-4ce6-a66b-1e50f8397465"
      },
      "outputs": [
        {
          "output_type": "stream",
          "name": "stdout",
          "text": [
            "      0/ 100000: 11.9770\n",
            "  10000/ 100000: 3.8278\n",
            "  20000/ 100000: 2.3231\n",
            "  30000/ 100000: 3.6263\n",
            "  40000/ 100000: 2.3208\n",
            "  50000/ 100000: 3.2391\n",
            "  60000/ 100000: 3.9450\n",
            "  70000/ 100000: 4.4274\n",
            "  80000/ 100000: 4.1604\n",
            "  90000/ 100000: 2.6367\n"
          ]
        }
      ],
      "source": [
        "# actual training process\n",
        "max_steps = 100000\n",
        "batch_size = 32\n",
        "lossi = []\n",
        "for i in range(max_steps):\n",
        "  ix = torch.randint(0, Xtr.shape[0], (batch_size,))\n",
        "  Xb, Yb = Xtr[ix], Ytr[ix]\n",
        "  Xb = Xb.to(device)\n",
        "  Yb = Yb.to(device)\n",
        "\n",
        "  # pass xb through the model\n",
        "  logits = model(Xb)\n",
        "  loss = F.cross_entropy(logits, Yb)\n",
        "\n",
        "  # backprop\n",
        "  for p in model.parameters():\n",
        "    p.grad = None\n",
        "  loss.backward()\n",
        "\n",
        "  # update\n",
        "  optimizer = optim.Adam(model.parameters(), lr=1e-3)\n",
        "  optimizer.step()\n",
        "  # lr = 0.1 if i < 100000 else 0.01\n",
        "  # for p in model.parameters():\n",
        "  #   p.data += -lr * p.grad\n",
        "  lossi.append(loss.log10().item())\n",
        "  if i % 10000 == 0:\n",
        "    print(f\"{i:7d}/{max_steps:7d}: {loss.item():.4f}\")"
      ]
    },
    {
      "cell_type": "code",
      "source": [
        "plt.plot(torch.tensor(lossi).view(-1, 200).mean(1))"
      ],
      "metadata": {
        "colab": {
          "base_uri": "https://localhost:8080/",
          "height": 447
        },
        "id": "ohMXTaAuHpFz",
        "outputId": "be6be56e-a65b-49e3-abcb-3d3d998c31e2"
      },
      "execution_count": 50,
      "outputs": [
        {
          "output_type": "execute_result",
          "data": {
            "text/plain": [
              "[<matplotlib.lines.Line2D at 0x7edd9dedab00>]"
            ]
          },
          "metadata": {},
          "execution_count": 50
        },
        {
          "output_type": "display_data",
          "data": {
            "text/plain": [
              "<Figure size 640x480 with 1 Axes>"
            ],
            "image/png": "[encoded data removed]"
          },
          "metadata": {}
        }
      ]
    },
    {
      "cell_type": "code",
      "source": [
        "# evaluation on entire dataset\n",
        "\n",
        "@torch.no_grad()   # for faster operation\n",
        "def split_loss(split):\n",
        "  x, y = {\n",
        "      'train': (Xtr, Ytr),\n",
        "      'val': (Xdev, Ydev),\n",
        "      'test': (Xte, Yte),\n",
        "  }[split]\n",
        "  x = x.to(device)\n",
        "  y = y.to(device)\n",
        "  logits = model(x)\n",
        "  loss = F.cross_entropy(logits, y)\n",
        "  print(f'{split} loss: {loss.item():.4f}')\n",
        "\n",
        "split_loss('train')\n",
        "split_loss('val')"
      ],
      "metadata": {
        "colab": {
          "base_uri": "https://localhost:8080/"
        },
        "id": "X9lK8dNcFFGQ",
        "outputId": "020386d1-0a05-4bb7-dae0-85ee0b4763f1"
      },
      "execution_count": 51,
      "outputs": [
        {
          "output_type": "stream",
          "name": "stdout",
          "text": [
            "train loss: 3.4041\n",
            "val loss: 3.4703\n"
          ]
        }
      ]
    },
    {
      "cell_type": "code",
      "source": [
        "# sampling from the model\n",
        "g = torch.Generator().manual_seed(1234543)\n",
        "for _ in range(20):\n",
        "  out = []\n",
        "  context = [0] * block_size\n",
        "  while True:\n",
        "    # remember to preserve first dim of context\n",
        "    context_tensor = torch.tensor([context], device=device)\n",
        "    logits = model(context_tensor)\n",
        "    probs = F.softmax(logits, dim=1)\n",
        "\n",
        "\n",
        "    ix = torch.multinomial(probs, num_samples=1, replacement=True).item()\n",
        "    out.append(ix)\n",
        "    context = context[1:] + [ix]\n",
        "    if ix == 0:\n",
        "      break\n",
        "  print(''.join(itos[i] for i in out))\n",
        "\n"
      ],
      "metadata": {
        "colab": {
          "base_uri": "https://localhost:8080/"
        },
        "id": "WbZ9b2OAIzrx",
        "outputId": "3dd32a9f-fd3f-410f-dfb6-d7e75ef95db7"
      },
      "execution_count": 52,
      "outputs": [
        {
          "output_type": "stream",
          "name": "stdout",
          "text": [
            "ari.\n",
            "r.\n",
            "kaasty.\n",
            "rlehhte.\n",
            ".\n",
            ".\n",
            "ndatdah.\n",
            "insl.\n",
            "moee.\n",
            "eaime.\n",
            "nzaaime.\n",
            "rkiananer.\n",
            "lnylae.\n",
            "ymealn.\n",
            "nralel.\n",
            "amalideanndlaraltit.\n",
            "rhaaa.\n",
            "ridided.\n",
            ".\n",
            "laran.\n"
          ]
        }
      ]
    }
  ],
  "metadata": {
    "colab": {
      "provenance": [],
      "gpuType": "T4"
    },
    "kernelspec": {
      "display_name": "Python 3",
      "name": "python3"
    },
    "language_info": {
      "name": "python"
    },
    "accelerator": "GPU"
  },
  "nbformat": 4,
  "nbformat_minor": 0
}